{
 "cells": [
  {
   "cell_type": "code",
   "execution_count": 1,
   "id": "06e41afa",
   "metadata": {},
   "outputs": [],
   "source": [
    "import numpy as np\n",
    "import pdb\n",
    "import torch\n",
    "import torch.nn as nn\n",
    "from torch_geometric.data import Data\n",
    "\n",
    "# from env.sys_admin import *\n",
    "# from gnn_model import GraphGNNModel\n",
    "\n",
    "import sys\n",
    "sys.path.append('/home/victorialena/rlkit')\n",
    "\n",
    "import rlkit\n",
    "# from rlkit.samplers.data_collector import MdpPathCollector\n",
    "from path_collector import MdpPathCollector\n",
    "# from rlkit.torch.dqn.dqn import DQNTrainer\n",
    "# from rlkit.torch.torch_rl_algorithm import TorchBatchRLAlgorithm\n",
    "\n",
    "from any_replay_buffer import anyReplayBuffer\n",
    "# from dqn import DQNTrainer\n",
    "from policies import *"
   ]
  },
  {
   "cell_type": "code",
   "execution_count": 2,
   "id": "68832044",
   "metadata": {},
   "outputs": [],
   "source": [
    "import numpy as np\n",
    "from numpy.random import randint, choice, rand\n",
    "import networkx as nx\n",
    "\n",
    "import gym\n",
    "from gym.spaces import MultiDiscrete\n",
    "\n",
    "import torch\n",
    "import torch.nn.functional as F\n",
    "import torch_geometric\n",
    "from torch_geometric.data import Data\n",
    "from torch_geometric.utils.random import erdos_renyi_graph\n",
    "from torch_geometric.utils import to_dense_adj, to_networkx\n",
    "\n",
    "from collections import namedtuple\n",
    "from copy import copy, deepcopy\n",
    "from typing import Optional\n",
    "from enum import Enum, IntEnum\n",
    "\n",
    "import pdb\n",
    "\n",
    "class status(IntEnum):\n",
    "    good=0\n",
    "    faulty=1\n",
    "    \n",
    "# class load(IntEnum):\n",
    "#     idle=0\n",
    "#     success=1\n",
    "    \n",
    "class action(IntEnum): \n",
    "    noop=0 \n",
    "    reboot=1\n",
    "    \n",
    "sysconfig = namedtuple(\"sysconfig\", \n",
    "                       ['p_fail_base', 'p_fail_bonus', 'p_dead_base', 'p_dead_bonus',\n",
    "                        'p_load', 'p_doneG', 'p_doneF',\n",
    "                        'discount', 'reboot_penalty', 'job_done'], \n",
    "                       defaults=[.4,.2,.1,.5,.6,.9,.6,.9,-1., 1.])\n",
    "\n",
    "format_input = lambda x: F.one_hot(x, num_classes=len(status)).reshape(-1,len(status)).to(torch.float32)\n",
    "\n",
    "format_data = lambda x: (format_input(x.x), x.edge_index)\n",
    "\n",
    "format_data_input = lambda x: format_input(x.x)\n",
    "\n",
    "class sysAdminProbe(gym.Env):\n",
    "    \"\"\"\n",
    "    ### Description\n",
    "    \n",
    "    ### Action Space\n",
    "    Each community within the graph has governance of given nodes, an action notes the measure each \n",
    "    community is taking at any given time during simulation.\n",
    "    \n",
    "    ### State Space\n",
    "    The state is defined as an arbitrary input graph where each node has an associate SEIR state. The \n",
    "    edge weights reflect transmission probabilities if either node is infectious.\n",
    "    \n",
    "    ### Rewards\n",
    "    The reward model is defined as the sum of cost associated with each measure weighted by the size\n",
    "    of the affected community.\n",
    "    \n",
    "    ### Starting State\n",
    "    Randomly initilized stochastic Blockmodelgraph with predefined number of nodes and communities.\n",
    "    \n",
    "    ### Episode Termination\n",
    "    The simulation terminates when no node is infectious anymore. At this point the the desease can\n",
    "    no longer spread.\n",
    "    \n",
    "    ### Arguments\n",
    "    No additional arguments are currently supported.\n",
    "    \"\"\"\n",
    "\n",
    "    def __init__(self, nnodes: int, njobs: int):\n",
    "        self.n_nodes = nnodes\n",
    "        self.n_jobs = njobs\n",
    "        self.config = sysconfig()\n",
    "        self.topology = 'random'\n",
    "        \n",
    "        self.action_space = MultiDiscrete([len(action)] * self.n_nodes)\n",
    "        self.state = None\n",
    "        \n",
    "    def reward(self, a):\n",
    "        return torch.sum(a==action.noop) + torch.sum(a==action.reboot) * self.config.reboot_penalty\n",
    "    \n",
    "    def _step(self, s):\n",
    "        pass\n",
    "                    \n",
    "    def step(self, a):\n",
    "        err_msg = f\"{a!r} ({type(a)}) is not a valid action.\"\n",
    "        assert self.action_space.contains(a), err_msg\n",
    "        \n",
    "        a = torch.Tensor(a)\n",
    "        self.n_jobs = self.n_jobs -1\n",
    "        \n",
    "        reward = self.reward(a)\n",
    "        done = self.n_jobs == 0\n",
    "        self.state.x = torch.where(torch.rand(self.n_nodes,) > self.config.p_fail_base,\n",
    "                                   1,\n",
    "                                   0) #self.state.x)\n",
    "                \n",
    "        return deepcopy(self.state), deepcopy(reward.item()), deepcopy(done), {}\n",
    "\n",
    "    def reset(self, seed: Optional[int] = None, topology: str = 'random'):\n",
    "        if not seed == None:\n",
    "            super().reset(seed=seed)\n",
    "        self.topology = topology\n",
    "        \n",
    "        if self.topology == 'random':\n",
    "            edge_index = erdos_renyi_graph(self.n_nodes, 0.75, directed=False)\n",
    "        elif self.topology == 'star':\n",
    "            arr = torch.arange(1, self.n_nodes)\n",
    "            edge_index = torch.stack([arr, torch.zeros(self.n_nodes-1, dtype=torch.int64)])\n",
    "            edge_index = torch.hstack([edge_index, edge_index.flip(0)])\n",
    "        elif self.topology == 'ring':\n",
    "            arr = torch.arange(self.n_nodes)\n",
    "            edge_index = torch.vstack([arr, arr.roll(-1,0)])\n",
    "            edge_index = torch.hstack([edge_index, edge_index.flip(0)])\n",
    "        else:\n",
    "            err_msg = f\"Unknown topology. Choose among 'ring', 'star', or 'random'.\"\n",
    "            assert False, err_msg\n",
    "            \n",
    "        x = torch.zeros((self.n_nodes, 1), dtype=torch.int64) #torch.randint(high=len(status), size=(3,2))\n",
    "        self.state = Data(x=x, edge_index=edge_index)\n",
    "        \n",
    "        return deepcopy(self.state)\n",
    "\n",
    "    def render(self):\n",
    "        pass\n",
    "        g = torch_geometric.utils.to_networkx(self.state, to_undirected=True)\n",
    "        colors = np.array(['green']) #, 'blue', 'red'])\n",
    "        color_map = colors[self.state.x.numpy()[:, 0]]\n",
    "#         labeldict = {i: 'L' if v==load.loaded else ('I' if v==load.idle else 'S')  for i, v in enumerate(self.state.x[:, 1])}\n",
    "        nx.draw(g, node_color=color_map)#, labels=labeldict)\n",
    "        \n",
    "    def seed(self, n: int):\n",
    "        super().reset(seed=seed)"
   ]
  },
  {
   "cell_type": "code",
   "execution_count": 3,
   "id": "ad2882de",
   "metadata": {},
   "outputs": [],
   "source": [
    "torch.random.manual_seed(42)\n",
    "np.random.seed(42)"
   ]
  },
  {
   "cell_type": "code",
   "execution_count": 4,
   "id": "8d24f6cf",
   "metadata": {},
   "outputs": [
    {
     "data": {
      "image/png": "[encoded data removed]",
      "text/plain": [
       "<Figure size 432x288 with 1 Axes>"
      ]
     },
     "metadata": {},
     "output_type": "display_data"
    }
   ],
   "source": [
    "env = sysAdminProbe(nnodes=2, njobs=10)\n",
    "x = env.reset(topology='star')\n",
    "env.render()"
   ]
  },
  {
   "cell_type": "markdown",
   "id": "64093dd0",
   "metadata": {},
   "source": [
    "```python\n",
    "a = env.action_space.sample()\n",
    "data, r, _, _ = env.step(a)\n",
    "```"
   ]
  },
  {
   "cell_type": "code",
   "execution_count": 5,
   "id": "fe6a2436",
   "metadata": {},
   "outputs": [],
   "source": [
    "in_channels = len(status)#+len(load)\n",
    "out_channels = len(action)"
   ]
  },
  {
   "cell_type": "code",
   "execution_count": 6,
   "id": "b8869c14",
   "metadata": {},
   "outputs": [],
   "source": [
    "device = torch.cuda.current_device() if torch.cuda.is_available() else 'cpu'"
   ]
  },
  {
   "cell_type": "code",
   "execution_count": 7,
   "id": "b0c83056",
   "metadata": {},
   "outputs": [],
   "source": [
    "from collections import OrderedDict\n",
    "\n",
    "from torch.nn import Linear, ReLU\n",
    "import torch.nn.functional as F\n",
    "\n",
    "class sysAdminModel(nn.Module):\n",
    "    \n",
    "    def __init__(self, c_in, c_out, c_hidden=64, dp_rate_linear=0.5, **kwargs):\n",
    "        \n",
    "        super().__init__()\n",
    "        \n",
    "        self.model = nn.Sequential(OrderedDict([\n",
    "            ('fc1', nn.Linear(in_channels, out_channels)),\n",
    "#             ('relu1', nn.ReLU()),\n",
    "#             ('fc2', nn.Linear(c_hidden, out_channels)),\n",
    "#             ('relu2', nn.ReLU()),\n",
    "#             ('fc3', nn.Linear(c_hidden, out_channels)),\n",
    "            ('act', nn.Softmax(dim=1))\n",
    "        ]))\n",
    "\n",
    "        self._device = 'cpu'\n",
    "\n",
    "    def forward(self, x, edge_index):\n",
    "        return self.model(x.to(self._device))\n",
    "    \n",
    "    def to(self, device):\n",
    "        super().to(device)\n",
    "        self._device = device"
   ]
  },
  {
   "cell_type": "code",
   "execution_count": 8,
   "id": "08997c83",
   "metadata": {},
   "outputs": [],
   "source": [
    "qf = sysAdminModel(in_channels, out_channels, 16)\n",
    "target_qf = sysAdminModel(in_channels, out_channels, 16)\n",
    "\n",
    "# qf = GraphGNNModel(in_channels, 256, out_channels, use_edge_weight=False)\n",
    "# target_qf = GraphGNNModel(in_channels, 256, out_channels, use_edge_weight=False)"
   ]
  },
  {
   "cell_type": "code",
   "execution_count": 9,
   "id": "f406418e",
   "metadata": {},
   "outputs": [],
   "source": [
    "from rlkit.policies.base import Policy\n",
    "\n",
    "class sysRolloutPolicy(nn.Module, Policy):\n",
    "    def __init__(self, aspace, eps=0.05):\n",
    "        super().__init__()\n",
    "        self.eps = eps\n",
    "        self.aspace = aspace\n",
    "\n",
    "    def get_action(self, obs):\n",
    "        if rand() < self.eps:\n",
    "            return self.aspace.sample(), {}\n",
    "        return torch.where(obs.x[:, 0]==status.dead, action.reboot, action.noop).cpu().detach().numpy(), {}\n"
   ]
  },
  {
   "cell_type": "code",
   "execution_count": 10,
   "id": "dde3c9f7",
   "metadata": {},
   "outputs": [],
   "source": [
    "qf_criterion = nn.MSELoss() #nn.CrossEntropyLoss() #nn.MSELoss()\n",
    "eval_policy = argmaxDiscretePolicy(qf, format_data)\n",
    "# expl_policy = sysRolloutPolicy(env.action_space)\n",
    "expl_policy = epsilonGreedyPolicy(qf, format_data, env.action_space, eps=0.1)"
   ]
  },
  {
   "cell_type": "code",
   "execution_count": 11,
   "id": "e0ac58c7",
   "metadata": {},
   "outputs": [
    {
     "data": {
      "text/plain": [
       "(array([0, 0]), {})"
      ]
     },
     "execution_count": 11,
     "metadata": {},
     "output_type": "execute_result"
    }
   ],
   "source": [
    "eval_policy.get_action(x)"
   ]
  },
  {
   "cell_type": "markdown",
   "id": "e6cae0d8",
   "metadata": {},
   "source": [
    "```python\n",
    "expl_policy = sysRolloutPolicy(env.action_space)\n",
    "expl_path_collector = MdpPathCollector(env, expl_policy)\n",
    "paths = expl_path_collector.collect_new_paths(1, 40, False)\n",
    "\n",
    "for s, a, r, t in zip(paths[0]['observations'], paths[0]['actions'], \n",
    "                      paths[0]['rewards'], paths[0]['terminals']):\n",
    "    print(s.x)\n",
    "    print(a)\n",
    "    print(r)\n",
    "    print(t)\n",
    "```"
   ]
  },
  {
   "cell_type": "code",
   "execution_count": 12,
   "id": "458de92d",
   "metadata": {},
   "outputs": [],
   "source": [
    "from torch.optim import Adam"
   ]
  },
  {
   "cell_type": "code",
   "execution_count": 13,
   "id": "f0805eb8",
   "metadata": {},
   "outputs": [],
   "source": [
    "expl_path_collector = MdpPathCollector(env, expl_policy)\n",
    "eval_path_collector = MdpPathCollector(env, eval_policy)\n",
    "replay_buffer = anyReplayBuffer(10000)\n",
    "optimizer = Adam(qf.parameters(), lr=1E-3)"
   ]
  },
  {
   "cell_type": "markdown",
   "id": "a0abb2c8",
   "metadata": {},
   "source": [
    "#### Reinforcement Learning"
   ]
  },
  {
   "cell_type": "code",
   "execution_count": 16,
   "id": "38e94ce2",
   "metadata": {},
   "outputs": [],
   "source": [
    "def initialize_weights(m):\n",
    "    if isinstance(m, nn.Linear):\n",
    "        nn.init.xavier_uniform_(m.weight.data)\n",
    "        nn.init.constant_(m.bias.data, 0)"
   ]
  },
  {
   "cell_type": "code",
   "execution_count": 17,
   "id": "e1ebd7a0",
   "metadata": {},
   "outputs": [
    {
     "name": "stdout",
     "output_type": "stream",
     "text": [
      "odict_items([('model.fc1.weight', tensor([[ 0.9245,  0.2007],\n",
      "        [-0.5911,  0.3316]])), ('model.fc1.bias', tensor([ 1.5073e-03, -5.6404e-05]))])\n",
      "iter  1  -> loss:  2.0973972618579864 , rewards:  -0.33828125\n",
      "odict_items([('model.fc1.weight', tensor([[ 0.9138,  0.2114],\n",
      "        [-0.5815,  0.3219]])), ('model.fc1.bias', tensor([1.6723e-03, 8.7242e-05]))])\n",
      "iter  2  -> loss:  2.1488528847694397 , rewards:  -0.32890625\n",
      "odict_items([('model.fc1.weight', tensor([[ 0.9081,  0.2171],\n",
      "        [-0.5606,  0.3010]])), ('model.fc1.bias', tensor([ 1.4972e-03, -4.4936e-05]))])\n",
      "iter  3  -> loss:  2.156779944896698 , rewards:  -0.31640625\n",
      "odict_items([('model.fc1.weight', tensor([[ 0.9025,  0.2227],\n",
      "        [-0.5392,  0.2797]])), ('model.fc1.bias', tensor([ 0.0010, -0.0001]))])\n",
      "iter  4  -> loss:  2.0899476230144503 , rewards:  -0.26796875\n",
      "odict_items([('model.fc1.weight', tensor([[ 0.8962,  0.2289],\n",
      "        [-0.5183,  0.2587]])), ('model.fc1.bias', tensor([0.0009, 0.0003]))])\n",
      "iter  5  -> loss:  2.101673114299774 , rewards:  -0.2609375\n",
      "odict_items([('model.fc1.weight', tensor([[ 0.8893,  0.2358],\n",
      "        [-0.4973,  0.2377]])), ('model.fc1.bias', tensor([0.0012, 0.0010]))])\n",
      "iter  6  -> loss:  2.154967170953751 , rewards:  -0.30859375\n",
      "odict_items([('model.fc1.weight', tensor([[ 0.8824,  0.2427],\n",
      "        [-0.4768,  0.2172]])), ('model.fc1.bias', tensor([0.0013, 0.0008]))])\n",
      "iter  7  -> loss:  2.1988481163978575 , rewards:  -0.29140625\n",
      "odict_items([('model.fc1.weight', tensor([[ 0.8553,  0.2699],\n",
      "        [-0.4629,  0.2034]])), ('model.fc1.bias', tensor([0.0023, 0.0003]))])\n",
      "iter  8  -> loss:  3.957934761047363 , rewards:  1.7703125\n",
      "odict_items([('model.fc1.weight', tensor([[ 0.8228,  0.3023],\n",
      "        [-0.4548,  0.1952]])), ('model.fc1.bias', tensor([0.0078, 0.0001]))])\n",
      "iter  9  -> loss:  3.9885151624679565 , rewards:  1.83125\n",
      "odict_items([('model.fc1.weight', tensor([[ 0.7933,  0.3319],\n",
      "        [-0.4470,  0.1874]])), ('model.fc1.bias', tensor([7.2724e-03, 6.5177e-05]))])\n",
      "iter  10  -> loss:  3.959729588031769 , rewards:  1.8015625\n"
     ]
    }
   ],
   "source": [
    "qf.apply(initialize_weights)\n",
    "target_qf.apply(initialize_weights)\n",
    "\n",
    "loss = []\n",
    "avg_r = []\n",
    "for i in range(10):\n",
    "    qf.train(False)\n",
    "    paths = expl_path_collector.collect_new_paths(250, 40, False)\n",
    "    replay_buffer.add_paths(paths)\n",
    "    \n",
    "    qf.train(True)\n",
    "    \n",
    "    for _ in range(20):\n",
    "        batch = replay_buffer.random_batch(128)\n",
    "        rewards = torch.Tensor(batch['rewards']).unsqueeze(-1)\n",
    "        terminals = torch.Tensor(batch['terminals'])\n",
    "        actions = torch.Tensor(batch['actions'])\n",
    "\n",
    "        obs = batch['observations']\n",
    "        next_obs = batch['next_observations']\n",
    "    \n",
    "#         ff = lambda x: target_qf(*x)\n",
    "#         out = torch.stack(list(map(ff, map(format_data, obs))), axis=0).cpu()\n",
    "#         pdb.set_trace()\n",
    "        X = torch.stack(list(map(format_data_input, obs)))\n",
    "        out = target_qf(X, [])\n",
    "        \n",
    "        target_q_values = out.max(-1).values\n",
    "        y_target = rewards + (1. - terminals) * 0.95 * target_q_values\n",
    "        \n",
    "#         ff = lambda x: qf(*x)\n",
    "#         out = torch.stack(list(map(ff, map(format_data, obs))), axis=0).cpu()\n",
    "\n",
    "        X = torch.stack(list(map(format_data_input, obs)))\n",
    "        out = qf(X, [])\n",
    "        \n",
    "        actions_one_hot = F.one_hot(actions.to(torch.int64))\n",
    "        y_pred = torch.sum(out * actions_one_hot, dim=-1)#.sum(1, keepdim=True)\n",
    "        qf_loss = qf_criterion(y_pred, y_target)\n",
    "        \n",
    "        loss.append(qf_loss.item())\n",
    "        avg_r.append(rewards.mean().item())\n",
    "        \n",
    "        optimizer.zero_grad()\n",
    "        qf_loss.backward()\n",
    "        optimizer.step()\n",
    "        \n",
    "    print(qf.state_dict().items())\n",
    "    \n",
    "    target_qf.load_state_dict(deepcopy(qf.state_dict()))\n",
    "    print(\"iter \", i+1, \" -> loss: \", np.mean(loss[-20:]), \", rewards: \", np.mean(avg_r[-20:]))"
   ]
  },
  {
   "cell_type": "code",
   "execution_count": 18,
   "id": "aef96dd5",
   "metadata": {},
   "outputs": [],
   "source": [
    "import matplotlib.pyplot as plt"
   ]
  },
  {
   "cell_type": "code",
   "execution_count": 19,
   "id": "15498820",
   "metadata": {},
   "outputs": [
    {
     "data": {
      "text/plain": [
       "[<matplotlib.lines.Line2D at 0x7ffa45db4210>]"
      ]
     },
     "execution_count": 19,
     "metadata": {},
     "output_type": "execute_result"
    },
    {
     "data": {
      "image/png": "[encoded data removed]",
      "text/plain": [
       "<Figure size 432x288 with 1 Axes>"
      ]
     },
     "metadata": {
      "needs_background": "light"
     },
     "output_type": "display_data"
    }
   ],
   "source": [
    "plt.plot(avg_r)"
   ]
  },
  {
   "cell_type": "markdown",
   "id": "6f9811a3",
   "metadata": {},
   "source": [
    "### Notes\n",
    "1. Instead of a GCN use a normal GNN - nah\n",
    "2. add self loops - default on GCNs\n",
    "3. try over fitting a linear layer - done"
   ]
  },
  {
   "cell_type": "code",
   "execution_count": null,
   "id": "dbf4817a",
   "metadata": {},
   "outputs": [],
   "source": []
  }
 ],
 "metadata": {
  "kernelspec": {
   "display_name": "Python [conda env:rlpyt] *",
   "language": "python",
   "name": "conda-env-rlpyt-py"
  },
  "language_info": {
   "codemirror_mode": {
    "name": "ipython",
    "version": 3
   },
   "file_extension": ".py",
   "mimetype": "text/x-python",
   "name": "python",
   "nbconvert_exporter": "python",
   "pygments_lexer": "ipython3",
   "version": "3.7.11"
  }
 },
 "nbformat": 4,
 "nbformat_minor": 5
}
