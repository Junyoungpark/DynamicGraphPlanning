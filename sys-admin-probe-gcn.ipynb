{
 "cells": [
  {
   "cell_type": "code",
   "execution_count": 1,
   "id": "b94fcc44",
   "metadata": {},
   "outputs": [],
   "source": [
    "import numpy as np\n",
    "import pdb\n",
    "import torch\n",
    "import torch.nn as nn\n",
    "from torch_geometric.data import Data\n",
    "\n",
    "# from env.sys_admin import *\n",
    "# from gnn_model import GraphGNNModel\n",
    "\n",
    "import sys\n",
    "sys.path.append('/home/victorialena/rlkit')\n",
    "\n",
    "import rlkit\n",
    "# from rlkit.samplers.data_collector import MdpPathCollector\n",
    "from path_collector import MdpPathCollector\n",
    "# from rlkit.torch.dqn.dqn import DQNTrainer\n",
    "# from rlkit.torch.torch_rl_algorithm import TorchBatchRLAlgorithm\n",
    "\n",
    "from any_replay_buffer import anyReplayBuffer\n",
    "# from dqn import DQNTrainer\n",
    "from policies import *"
   ]
  },
  {
   "cell_type": "code",
   "execution_count": 2,
   "id": "700e351f",
   "metadata": {},
   "outputs": [],
   "source": [
    "import numpy as np\n",
    "from numpy.random import randint, choice, rand\n",
    "import networkx as nx\n",
    "\n",
    "import gym\n",
    "from gym.spaces import MultiDiscrete\n",
    "\n",
    "import torch\n",
    "import torch.nn.functional as F\n",
    "import torch_geometric\n",
    "from torch_geometric.data import Data\n",
    "from torch_geometric.utils.random import erdos_renyi_graph\n",
    "from torch_geometric.utils import to_dense_adj, to_networkx\n",
    "\n",
    "from collections import namedtuple\n",
    "from copy import copy, deepcopy\n",
    "from typing import Optional\n",
    "from enum import Enum, IntEnum\n",
    "\n",
    "import pdb\n",
    "\n",
    "class status(IntEnum):\n",
    "    good=0\n",
    "    faulty=1\n",
    "    \n",
    "# class load(IntEnum):\n",
    "#     idle=0\n",
    "#     success=1\n",
    "    \n",
    "class action(IntEnum): \n",
    "    noop=0 \n",
    "    reboot=1\n",
    "    \n",
    "sysconfig = namedtuple(\"sysconfig\", \n",
    "                       ['p_fail_base', 'p_fail_bonus', 'p_dead_base', 'p_dead_bonus',\n",
    "                        'p_load', 'p_doneG', 'p_doneF',\n",
    "                        'discount', 'reboot_penalty', 'job_done'], \n",
    "                       defaults=[.4,.2,.1,.5,.6,.9,.6,.9,-1., 1.])\n",
    "\n",
    "format_input = lambda x: F.one_hot(x, num_classes=len(status)).reshape(-1,len(status)).to(torch.float32)\n",
    "\n",
    "format_data = lambda x: (format_input(x.x), x.edge_index)\n",
    "\n",
    "format_data_input = lambda x: format_input(x.x)\n",
    "\n",
    "class sysAdminProbe(gym.Env):\n",
    "    \"\"\"\n",
    "    ### Description\n",
    "    \n",
    "    ### Action Space\n",
    "    Each community within the graph has governance of given nodes, an action notes the measure each \n",
    "    community is taking at any given time during simulation.\n",
    "    \n",
    "    ### State Space\n",
    "    The state is defined as an arbitrary input graph where each node has an associate SEIR state. The \n",
    "    edge weights reflect transmission probabilities if either node is infectious.\n",
    "    \n",
    "    ### Rewards\n",
    "    The reward model is defined as the sum of cost associated with each measure weighted by the size\n",
    "    of the affected community.\n",
    "    \n",
    "    ### Starting State\n",
    "    Randomly initilized stochastic Blockmodelgraph with predefined number of nodes and communities.\n",
    "    \n",
    "    ### Episode Termination\n",
    "    The simulation terminates when no node is infectious anymore. At this point the the desease can\n",
    "    no longer spread.\n",
    "    \n",
    "    ### Arguments\n",
    "    No additional arguments are currently supported.\n",
    "    \"\"\"\n",
    "\n",
    "    def __init__(self, nnodes: int, njobs: int):\n",
    "        self.n_nodes = nnodes\n",
    "        self.n_jobs = njobs\n",
    "        self.config = sysconfig()\n",
    "        self.topology = 'random'\n",
    "        \n",
    "        self.action_space = MultiDiscrete([len(action)] * self.n_nodes)\n",
    "        self.state = None\n",
    "        self.count = njobs\n",
    "        \n",
    "    def reward(self, a):\n",
    "        return torch.sum(a==action.noop) + torch.sum(a==action.reboot) * self.config.reboot_penalty\n",
    "    \n",
    "    def _step(self, s):\n",
    "        pass\n",
    "                    \n",
    "    def step(self, a):\n",
    "        err_msg = f\"{a!r} ({type(a)}) is not a valid action.\"\n",
    "        assert self.action_space.contains(a), err_msg\n",
    "        \n",
    "        a = torch.Tensor(a)\n",
    "        self.count = self.count - 1\n",
    "        \n",
    "        reward = self.reward(a)\n",
    "        done = self.count == 0\n",
    "        self.state.x = torch.where(torch.rand(self.n_nodes,) > self.config.p_fail_base,\n",
    "                                   1,\n",
    "                                   0) #self.state.x)\n",
    "                \n",
    "        return deepcopy(self.state), deepcopy(reward.item()), deepcopy(done), {}\n",
    "\n",
    "    def reset(self, seed: Optional[int] = None, topology: str = 'random'):\n",
    "        if not seed == None:\n",
    "            super().reset(seed=seed)\n",
    "        self.topology = topology\n",
    "        \n",
    "        if self.topology == 'random':\n",
    "            edge_index = erdos_renyi_graph(self.n_nodes, 0.75, directed=False)\n",
    "        elif self.topology == 'star':\n",
    "            arr = torch.arange(1, self.n_nodes)\n",
    "            edge_index = torch.stack([arr, torch.zeros(self.n_nodes-1, dtype=torch.int64)])\n",
    "            edge_index = torch.hstack([edge_index, edge_index.flip(0)])\n",
    "        elif self.topology == 'ring':\n",
    "            arr = torch.arange(self.n_nodes)\n",
    "            edge_index = torch.vstack([arr, arr.roll(-1,0)])\n",
    "            edge_index = torch.hstack([edge_index, edge_index.flip(0)])\n",
    "        else:\n",
    "            err_msg = f\"Unknown topology. Choose among 'ring', 'star', or 'random'.\"\n",
    "            assert False, err_msg\n",
    "            \n",
    "        x = torch.zeros((self.n_nodes, 1), dtype=torch.int64) #torch.randint(high=len(status), size=(3,2))\n",
    "        self.state = Data(x=x, edge_index=edge_index)\n",
    "        self.count = self.n_jobs\n",
    "        \n",
    "        return deepcopy(self.state)\n",
    "\n",
    "    def render(self):\n",
    "        pass\n",
    "        g = torch_geometric.utils.to_networkx(self.state, to_undirected=True)\n",
    "        colors = np.array(['green']) #, 'blue', 'red'])\n",
    "        color_map = colors[self.state.x.numpy()[:, 0]]\n",
    "#         labeldict = {i: 'L' if v==load.loaded else ('I' if v==load.idle else 'S')  for i, v in enumerate(self.state.x[:, 1])}\n",
    "        nx.draw(g, node_color=color_map)#, labels=labeldict)\n",
    "        \n",
    "    def seed(self, n: int):\n",
    "        super().reset(seed=seed)"
   ]
  },
  {
   "cell_type": "code",
   "execution_count": 3,
   "id": "6936ba4f",
   "metadata": {},
   "outputs": [],
   "source": [
    "torch.random.manual_seed(42)\n",
    "np.random.seed(42)"
   ]
  },
  {
   "cell_type": "code",
   "execution_count": 4,
   "id": "7eb473b3",
   "metadata": {},
   "outputs": [
    {
     "data": {
      "image/png": "[encoded data removed]",
      "text/plain": [
       "<Figure size 432x288 with 1 Axes>"
      ]
     },
     "metadata": {},
     "output_type": "display_data"
    }
   ],
   "source": [
    "env = sysAdminProbe(nnodes=2, njobs=10)\n",
    "x = env.reset(topology='star')\n",
    "env.render()"
   ]
  },
  {
   "cell_type": "markdown",
   "id": "0bf22a8d",
   "metadata": {},
   "source": [
    "```python\n",
    "a = env.action_space.sample()\n",
    "data, r, _, _ = env.step(a)\n",
    "```"
   ]
  },
  {
   "cell_type": "code",
   "execution_count": 5,
   "id": "c43e9001",
   "metadata": {},
   "outputs": [],
   "source": [
    "in_channels = len(status)#+len(load)\n",
    "out_channels = len(action)"
   ]
  },
  {
   "cell_type": "code",
   "execution_count": 6,
   "id": "160431eb",
   "metadata": {},
   "outputs": [],
   "source": [
    "device = torch.cuda.current_device() if torch.cuda.is_available() else 'cpu'"
   ]
  },
  {
   "cell_type": "code",
   "execution_count": 7,
   "id": "41366760",
   "metadata": {},
   "outputs": [],
   "source": [
    "from collections import OrderedDict\n",
    "\n",
    "from torch.nn import Linear, ReLU\n",
    "import torch.nn.functional as F\n",
    "from torch_geometric.nn import Sequential, GCNConv, SAGEConv\n",
    "\n",
    "class sysAdminModel(nn.Module):\n",
    "    \n",
    "    def __init__(self, c_in, c_out, c_hidden=64, dp_rate_linear=0.5, **kwargs):\n",
    "        \n",
    "        super().__init__()\n",
    "        \n",
    "        self.model = Sequential('x, edge_index', [\n",
    "            (SAGEConv(c_in, c_hidden), 'x, edge_index -> x'),\n",
    "            ReLU(inplace=True),\n",
    "#             (SAGEConv(c_hidden c_hidden), 'x, edge_index -> x'),\n",
    "#             ReLU(inplace=True),\n",
    "            Linear(c_hidden, c_out),\n",
    "        ])\n",
    "\n",
    "        self._device = 'cpu'\n",
    "\n",
    "    def forward(self, x, edge_index):\n",
    "        return self.model(x.to(self._device), edge_index.to(self._device))\n",
    "    \n",
    "    def to(self, device):\n",
    "        super().to(device)\n",
    "        self._device = device"
   ]
  },
  {
   "cell_type": "code",
   "execution_count": 8,
   "id": "a51c9e33",
   "metadata": {},
   "outputs": [],
   "source": [
    "qf = sysAdminModel(in_channels, out_channels, 16)\n",
    "target_qf = sysAdminModel(in_channels, out_channels, 16)"
   ]
  },
  {
   "cell_type": "code",
   "execution_count": 9,
   "id": "98ae75e0",
   "metadata": {},
   "outputs": [],
   "source": [
    "from rlkit.policies.base import Policy\n",
    "\n",
    "class sysRolloutPolicy(nn.Module, Policy):\n",
    "    def __init__(self, aspace, eps=0.05):\n",
    "        super().__init__()\n",
    "        self.eps = eps\n",
    "        self.aspace = aspace\n",
    "\n",
    "    def get_action(self, obs):\n",
    "        if rand() < self.eps:\n",
    "            return self.aspace.sample(), {}\n",
    "        return torch.where(obs.x[:, 0]==status.dead, action.reboot, action.noop).cpu().detach().numpy(), {}\n"
   ]
  },
  {
   "cell_type": "code",
   "execution_count": 10,
   "id": "52677103",
   "metadata": {},
   "outputs": [],
   "source": [
    "qf_criterion = nn.MSELoss()\n",
    "eval_policy = argmaxDiscretePolicy(qf, format_data)\n",
    "# expl_policy = sysRolloutPolicy(env.action_space)\n",
    "expl_policy = epsilonGreedyPolicy(qf, format_data, env.action_space, eps=0.1)"
   ]
  },
  {
   "cell_type": "markdown",
   "id": "2ce1f314",
   "metadata": {},
   "source": [
    "```python\n",
    "expl_policy = sysRolloutPolicy(env.action_space)\n",
    "expl_path_collector = MdpPathCollector(env, expl_policy)\n",
    "paths = expl_path_collector.collect_new_paths(1, 40, False)\n",
    "\n",
    "for s, a, r, t in zip(paths[0]['observations'], paths[0]['actions'], \n",
    "                      paths[0]['rewards'], paths[0]['terminals']):\n",
    "    print(s.x)\n",
    "    print(a)\n",
    "    print(r)\n",
    "    print(t)\n",
    "```"
   ]
  },
  {
   "cell_type": "code",
   "execution_count": 11,
   "id": "3b349d76",
   "metadata": {},
   "outputs": [],
   "source": [
    "from torch.optim import Adam"
   ]
  },
  {
   "cell_type": "code",
   "execution_count": 12,
   "id": "946aa199",
   "metadata": {},
   "outputs": [],
   "source": [
    "expl_path_collector = MdpPathCollector(env, expl_policy)\n",
    "eval_path_collector = MdpPathCollector(env, eval_policy)\n",
    "replay_buffer = anyReplayBuffer(10000)\n",
    "optimizer = Adam(qf.parameters(), lr=5E-3)"
   ]
  },
  {
   "cell_type": "markdown",
   "id": "928b0f49",
   "metadata": {},
   "source": [
    "#### Reinforcement Learning"
   ]
  },
  {
   "cell_type": "code",
   "execution_count": 13,
   "id": "6cdc9b9f",
   "metadata": {},
   "outputs": [],
   "source": [
    "n_epoch = 10\n",
    "n_iter = 20"
   ]
  },
  {
   "cell_type": "code",
   "execution_count": 14,
   "id": "5fcf56c8",
   "metadata": {},
   "outputs": [
    {
     "name": "stdout",
     "output_type": "stream",
     "text": [
      "iter  1  -> loss:  3.330555629730225 , rewards: (train)  -1.290625 , (test)  -1.572\n",
      "iter  2  -> loss:  2.5418287992477415 , rewards: (train)  0.23828125 , (test)  2.0\n",
      "iter  3  -> loss:  1.8862861573696137 , rewards: (train)  0.71640625 , (test)  2.0\n",
      "iter  4  -> loss:  2.1287492156028747 , rewards: (train)  0.9828125 , (test)  2.0\n",
      "iter  5  -> loss:  2.68962744474411 , rewards: (train)  1.790625 , (test)  2.0\n",
      "iter  6  -> loss:  3.3205103158950804 , rewards: (train)  1.78046875 , (test)  2.0\n",
      "iter  7  -> loss:  4.239196002483368 , rewards: (train)  1.8140625 , (test)  2.0\n",
      "iter  8  -> loss:  5.484312677383423 , rewards: (train)  1.7890625 , (test)  2.0\n",
      "iter  9  -> loss:  7.467031967639923 , rewards: (train)  1.8 , (test)  2.0\n",
      "iter  10  -> loss:  7.740166068077087 , rewards: (train)  1.80625 , (test)  2.0\n"
     ]
    }
   ],
   "source": [
    "loss = []\n",
    "avg_r_train = []\n",
    "avg_r_test = []\n",
    "\n",
    "for i in range(n_epoch):\n",
    "    qf.train(False)\n",
    "    paths = eval_path_collector.collect_new_paths(100, 40, False)\n",
    "    avg_r_test.append(np.mean([np.mean(p['rewards']) for p in paths]))\n",
    "    \n",
    "    paths = expl_path_collector.collect_new_paths(250, 40, False)\n",
    "    replay_buffer.add_paths(paths)\n",
    "    \n",
    "    qf.train(True)\n",
    "#     pdb.set_trace()\n",
    "    \n",
    "    for _ in range(n_iter):\n",
    "        batch = replay_buffer.random_batch(128)\n",
    "        rewards = torch.Tensor(batch['rewards']).unsqueeze(-1)\n",
    "        terminals = torch.Tensor(batch['terminals'])\n",
    "        actions = torch.Tensor(batch['actions'])\n",
    "\n",
    "        obs = batch['observations']\n",
    "        next_obs = batch['next_observations']\n",
    "        \n",
    "        ff = lambda x: target_qf(*x)\n",
    "        out = torch.stack(list(map(ff, map(format_data, next_obs))), axis=0).cpu()\n",
    "        \n",
    "        target_q_values = out.max(-1).values\n",
    "        y_target = rewards + (1. - terminals) * 0.95 * target_q_values\n",
    "\n",
    "        ff = lambda x: qf(*x)\n",
    "        out = torch.stack(list(map(ff, map(format_data, obs))), axis=0).cpu()\n",
    "                               \n",
    "        actions_one_hot = F.one_hot(actions.to(torch.int64))\n",
    "        y_pred = torch.sum(out * actions_one_hot, dim=-1)#.sum(1, keepdim=True)\n",
    "        qf_loss = qf_criterion(y_pred, y_target)\n",
    "        \n",
    "        loss.append(qf_loss.item())\n",
    "        avg_r_train.append(rewards.mean().item())\n",
    "               \n",
    "        optimizer.zero_grad()\n",
    "        qf_loss.backward()\n",
    "        optimizer.step()\n",
    "        \n",
    "#     pdb.set_trace()\n",
    "#     print(qf.state_dict().items())\n",
    "#     print(qf.state_dict()['model.module_0.lin_l.weight'] - target_qf.state_dict()['model.module_0.lin_l.weight'])\n",
    "    target_qf.load_state_dict(deepcopy(qf.state_dict()))\n",
    "    print(\"iter \", i+1, \" -> loss: \", np.mean(loss[-n_iter:]),\n",
    "          \", rewards: (train) \", np.mean(avg_r_train[-n_iter:]),\n",
    "          \", (test) \", avg_r_test[-1])"
   ]
  },
  {
   "cell_type": "code",
   "execution_count": 15,
   "id": "34a68e94",
   "metadata": {},
   "outputs": [],
   "source": [
    "import matplotlib.pyplot as plt"
   ]
  },
  {
   "cell_type": "code",
   "execution_count": 16,
   "id": "ee6cba5d",
   "metadata": {},
   "outputs": [
    {
     "data": {
      "text/plain": [
       "<matplotlib.legend.Legend at 0x7f45dc83c7d0>"
      ]
     },
     "execution_count": 16,
     "metadata": {},
     "output_type": "execute_result"
    },
    {
     "data": {
      "image/png": "[encoded data removed]",
      "text/plain": [
       "<Figure size 432x288 with 1 Axes>"
      ]
     },
     "metadata": {
      "needs_background": "light"
     },
     "output_type": "display_data"
    }
   ],
   "source": [
    "plt.plot(np.arange(n_iter*n_epoch, step=n_iter), avg_r_test, label = \"avg R (test)\")\n",
    "plt.plot(np.arange(n_iter*n_epoch), avg_r_train, label = \"avg R (train)\")\n",
    "plt.legend()"
   ]
  },
  {
   "cell_type": "markdown",
   "id": "f23d8e2f",
   "metadata": {},
   "source": [
    "Avg reward plot makes a lot of sense since the exploration strategy has epsilon greedy with eps=0.2."
   ]
  },
  {
   "cell_type": "markdown",
   "id": "54b5788e",
   "metadata": {},
   "source": [
    "### Notes\n",
    "1. Instead of a GCN use a normal GNN - SAGEGraph\n",
    "2. add self loops - default on GCNs\n",
    "3. try over fitting a linear layer - done"
   ]
  },
  {
   "cell_type": "code",
   "execution_count": null,
   "id": "e7105fc2",
   "metadata": {},
   "outputs": [],
   "source": []
  }
 ],
 "metadata": {
  "kernelspec": {
   "display_name": "Python [conda env:rlpyt] *",
   "language": "python",
   "name": "conda-env-rlpyt-py"
  },
  "language_info": {
   "codemirror_mode": {
    "name": "ipython",
    "version": 3
   },
   "file_extension": ".py",
   "mimetype": "text/x-python",
   "name": "python",
   "nbconvert_exporter": "python",
   "pygments_lexer": "ipython3",
   "version": "3.7.11"
  }
 },
 "nbformat": 4,
 "nbformat_minor": 5
}
