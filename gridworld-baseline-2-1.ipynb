{
 "cells": [
  {
   "cell_type": "code",
   "execution_count": 1,
   "id": "0512bd2c",
   "metadata": {},
   "outputs": [],
   "source": [
    "import numpy as np\n",
    "from numpy.random import choice, randint, rand, uniform\n",
    "\n",
    "import pdb\n",
    "\n",
    "import torch\n",
    "import torch_geometric\n",
    "from torch_geometric.data import Data\n",
    "from torch_geometric.utils.random import erdos_renyi_graph\n",
    "from torch_geometric.utils import to_dense_adj, to_networkx, to_undirected\n",
    "\n",
    "import torch.nn as nn\n",
    "import torch.nn.functional as F\n",
    "from torch.optim import Adam\n",
    "\n",
    "import networkx as nx\n",
    "import gym\n",
    "from gym.spaces import Box, MultiDiscrete\n",
    "\n",
    "from collections import namedtuple\n",
    "from copy import copy, deepcopy\n",
    "from typing import Optional\n",
    "from enum import Enum, IntEnum\n",
    "import sys\n",
    "sys.path.append('/home/victorialena/rlkit')\n",
    "\n",
    "import rlkit\n",
    "from path_collector import MdpPathCollector\n",
    "\n",
    "from any_replay_buffer import anyReplayBuffer"
   ]
  },
  {
   "cell_type": "code",
   "execution_count": 2,
   "id": "9405b0a9",
   "metadata": {},
   "outputs": [],
   "source": [
    "import time\n",
    "start_time = time.time()"
   ]
  },
  {
   "cell_type": "markdown",
   "id": "c41e0fcb",
   "metadata": {},
   "source": [
    "### env"
   ]
  },
  {
   "cell_type": "code",
   "execution_count": 3,
   "id": "9df73143",
   "metadata": {},
   "outputs": [],
   "source": [
    "device = 'cpu' #torch.cuda.current_device() if torch.cuda.is_available() else 'cpu'"
   ]
  },
  {
   "cell_type": "code",
   "execution_count": 4,
   "id": "e616c897",
   "metadata": {},
   "outputs": [],
   "source": [
    "sysconfig = namedtuple(\"sysconfig\", \n",
    "                       ['maxX', 'maxY', 'goal_reward', 'collision_penalty'], \n",
    "                       defaults=[3, 3, 1., -.1])"
   ]
  },
  {
   "cell_type": "code",
   "execution_count": 5,
   "id": "b45d539b",
   "metadata": {},
   "outputs": [],
   "source": [
    "actions = namedtuple(\"actions\", \n",
    "                    ['right', 'left', 'up', 'down', 'noop'], \n",
    "                    defaults=[np.int64(0), np.int64(1), np.int64(2), np.int64(3), np.int64(4)])\n",
    "action = actions()\n",
    "a2vecmap = torch.Tensor([[1., 0.],\n",
    "                         [-1, 0.],\n",
    "                         [0., 1.],\n",
    "                         [0, -1.],\n",
    "                         [0., 0.]]).to(device)"
   ]
  },
  {
   "cell_type": "code",
   "execution_count": 6,
   "id": "fcc5b41d",
   "metadata": {},
   "outputs": [],
   "source": [
    "def fully_connect_graph(n_drones):\n",
    "    \"\"\" Connect the graph s.t. all drones are interconnected and each goal connects to all drones. \"\"\"\n",
    "    \n",
    "    idx = torch.combinations(torch.arange(n_drones+1), r=2)\n",
    "    return to_undirected(idx.t(), num_nodes=n_drones+1)"
   ]
  },
  {
   "cell_type": "code",
   "execution_count": 7,
   "id": "b5049d05",
   "metadata": {},
   "outputs": [],
   "source": [
    "class droneDeliveryProbe(gym.Env):\n",
    "    \"\"\"\n",
    "    ### Description\n",
    "    \n",
    "    ### Action Space\n",
    "    Each agent in the scene can move R or L or not at all.\n",
    "    \n",
    "    ### State Space\n",
    "    The state is defined as an arbitrary input array of positions of n drones, appended by the location\n",
    "    of the goal region.\n",
    "    \n",
    "    ### Rewards\n",
    "    The reward of +1 is given to the system for each drone reaching the goal region.\n",
    "    \n",
    "    ### Starting State\n",
    "    Randomly initilized input array.\n",
    "    \n",
    "    ### Episode Termination\n",
    "    When all drones have reached the goal region.\n",
    "    \n",
    "    ### Arguments\n",
    "    No additional arguments are currently supported.\n",
    "    \"\"\"\n",
    "\n",
    "    def __init__(self, n=1, device='cpu'):\n",
    "        self.config = sysconfig()\n",
    "        self.ndrones = n\n",
    "        \n",
    "        self.aspace = MultiDiscrete([len(action)]*self.ndrones)\n",
    "        self.sspace = MultiDiscrete([self.config.maxX, self.config.maxY, 2])\n",
    "        self.state = None\n",
    "        \n",
    "        self._device = device\n",
    "        \n",
    "    def get_distances(self):\n",
    "        return (self.state.x[-1, :-1]-self.state.x[:-1, :-1]).norm(p=1, dim=1)\n",
    "    \n",
    "    def in_collision(self):\n",
    "        dis = torch.cdist(self.state.x[:-1, :-1], self.state.x[:-1, :-1], p=1)\n",
    "        return torch.triu((dis == 0).float(), 1).sum().item()\n",
    "    \n",
    "    def get_size(self):\n",
    "        return torch.Tensor([self.config.maxX, self.config.maxY, 2])\n",
    "        \n",
    "    def reward(self, a):\n",
    "        return self.config.goal_reward * (self.get_distances() == 0).all().float().item() + \\\n",
    "                self.config.collision_penalty * self.in_collision()\n",
    "                        \n",
    "    def step(self, a):\n",
    "        err_msg = f\"{a!r} ({type(a)}) is not a valid action.\"\n",
    "        assert self.aspace.contains(a), err_msg\n",
    "        \n",
    "        reward = self.reward(a)\n",
    "        a = a2vecmap[a]\n",
    "        done = (self.get_distances() == 0).all().item()   \n",
    "    \n",
    "        self.state.x[:-1, :-1] = (self.state.x[:-1, :-1]+a).clamp(min=0, max=self.config.maxX)\n",
    "        \n",
    "        return deepcopy(self.state), deepcopy(reward), deepcopy(done), {}\n",
    "\n",
    "    def reset(self, seed: Optional[int] = None):\n",
    "        if not seed == None:\n",
    "            super().reset(seed=seed)\n",
    "            \n",
    "        x = torch.Tensor(np.stack([self.sspace.sample() for _ in range(self.ndrones+1)]))\n",
    "        # reset the state flags: +1 agent, -1 goal\n",
    "        x[:, -1] = 1\n",
    "        x[-1, -1] = -1\n",
    "        \n",
    "        edge_index = fully_connect_graph(self.ndrones)\n",
    "        self.state = Data(x=x, edge_index=edge_index).to(device)\n",
    "        \n",
    "        return deepcopy(self.state)\n",
    "\n",
    "    def render(self, s = None):\n",
    "        if not s:\n",
    "            s = self.state\n",
    "        g = torch_geometric.utils.to_networkx(s, to_undirected=False)\n",
    "        colors = np.array(['green']*self.ndrones+['yellow'])\n",
    "        pos = {i: x[:2].numpy() for i, x in enumerate(self.state.x)}\n",
    "        nx.draw(g, pos=pos, node_color=colors)\n",
    "    \n",
    "    def seed(self, n: int):\n",
    "        super().seed(n)\n",
    "        self.aspace.seed(n)\n",
    "        self.sspace.seed(n)\n",
    "        \n",
    "    def to(self, device):\n",
    "        self._device = device\n",
    "        if self.state:\n",
    "            self.state = self.state.to(device)"
   ]
  },
  {
   "cell_type": "code",
   "execution_count": 8,
   "id": "84e60601",
   "metadata": {},
   "outputs": [],
   "source": [
    "env = droneDeliveryProbe(2, device=device)\n",
    "x = env.reset()"
   ]
  },
  {
   "cell_type": "markdown",
   "id": "a1c4390e",
   "metadata": {},
   "source": [
    "### Model"
   ]
  },
  {
   "cell_type": "code",
   "execution_count": 9,
   "id": "89108b71",
   "metadata": {},
   "outputs": [],
   "source": [
    "from collections import OrderedDict\n",
    "\n",
    "from torch.nn import Linear, ReLU, Softmax\n",
    "import torch.nn.functional as F\n",
    "from torch_geometric.nn import Sequential, GCNConv, SAGEConv\n",
    "        \n",
    "class droneDeliveryModel(nn.Module):\n",
    "    \n",
    "    def __init__(self, c_in, c_out, c_hidden=64, bounds=None, **kwargs):\n",
    "        \n",
    "        super().__init__()\n",
    "        \n",
    "        self.model = Sequential('x, edge_index', [\n",
    "            (SAGEConv(c_in, c_hidden), 'x, edge_index -> x'),\n",
    "            ReLU(inplace=True),\n",
    "            (SAGEConv(c_hidden, c_hidden), 'x, edge_index -> x'),\n",
    "            ReLU(inplace=True),\n",
    "            (SAGEConv(c_hidden, c_hidden), 'x, edge_index -> x'),\n",
    "            ReLU(inplace=True),\n",
    "            Linear(c_hidden, c_out),\n",
    "#             nn.Softmax(dim=-1) # no freaking softmax\n",
    "        ])\n",
    "        \n",
    "        self._device = 'cpu'\n",
    "        self._upper_bound = bounds\n",
    "\n",
    "    def forward(self, x):\n",
    "        y = x.x\n",
    "        if self._upper_bound is not None:\n",
    "            y = y.div(self._upper_bound-1)\n",
    "        return self.model(y, x.edge_index)[:-1]\n",
    "    \n",
    "    def to(self, device):\n",
    "        super().to(device)\n",
    "        self._device = device\n",
    "        if self._upper_bound is not None:\n",
    "            self._upper_bound = self._upper_bound.to(device)"
   ]
  },
  {
   "cell_type": "code",
   "execution_count": 10,
   "id": "41d99d24",
   "metadata": {},
   "outputs": [],
   "source": [
    "in_channels, out_channels = 2+1, len(action)"
   ]
  },
  {
   "cell_type": "markdown",
   "id": "cacda905",
   "metadata": {},
   "source": [
    "### RL "
   ]
  },
  {
   "cell_type": "code",
   "execution_count": 11,
   "id": "a25f0290",
   "metadata": {},
   "outputs": [],
   "source": [
    "max_len = env.config.maxX + env.config.maxY - 1"
   ]
  },
  {
   "cell_type": "code",
   "execution_count": 12,
   "id": "e51d66ee",
   "metadata": {},
   "outputs": [],
   "source": [
    "def pick(x):\n",
    "    probs = np.array([x[0]>0, x[0]<0, x[1]>0, x[1]<0, x[1]==x[0]==0], dtype=int)\n",
    "    return np.random.choice(action, p=probs/sum(probs))"
   ]
  },
  {
   "cell_type": "code",
   "execution_count": 13,
   "id": "4cddca94",
   "metadata": {},
   "outputs": [],
   "source": [
    "from rlkit.policies.base import Policy\n",
    "\n",
    "class sysRolloutPolicy(nn.Module, Policy):\n",
    "    def __init__(self):\n",
    "        super().__init__()\n",
    "\n",
    "    def get_action(self, obs):\n",
    "        dis = (obs.x[-1] - obs.x[:-1])\n",
    "        return [pick(d) for d in dis], {}\n",
    "    \n",
    "class argmaxDiscretePolicy(nn.Module, Policy):\n",
    "    def __init__(self, qf, dim=1):\n",
    "        super().__init__()\n",
    "        self.qf = qf\n",
    "        self.dim = dim\n",
    "\n",
    "    def get_action(self, obs):\n",
    "        q_values = self.qf(obs)\n",
    "        return q_values.cpu().detach().numpy().argmax(self.dim), {}\n",
    "\n",
    "# redundant code - clean this up\n",
    "class epsilonGreedyPolicy(nn.Module, Policy):\n",
    "    def __init__(self, qf, space, eps=0.1, dim=1, sim_annealing_fac=1.0):\n",
    "        super().__init__()\n",
    "        self.qf = qf\n",
    "        self.aspace = space\n",
    "        \n",
    "        self.eps = eps\n",
    "        self.dim = dim\n",
    "        self.saf = sim_annealing_fac\n",
    "        \n",
    "    def simulated_annealing(self):\n",
    "        self.eps *= self.saf\n",
    "\n",
    "    def get_action(self, obs):\n",
    "        if rand() < self.eps:\n",
    "            return self.aspace.sample(), {}\n",
    "        q_values = self.qf(obs)\n",
    "        return q_values.cpu().detach().numpy().argmax(self.dim), {}"
   ]
  },
  {
   "cell_type": "code",
   "execution_count": 14,
   "id": "9f8302d3",
   "metadata": {},
   "outputs": [],
   "source": [
    "def mean_reward_per_traj(paths):\n",
    "    return np.mean([np.sum(p['rewards']) for p in paths])\n",
    "\n",
    "def mean_reward(paths):\n",
    "    return np.hstack([p['rewards'] for p in paths]).mean()"
   ]
  },
  {
   "cell_type": "code",
   "execution_count": 15,
   "id": "f4227d7c",
   "metadata": {},
   "outputs": [
    {
     "name": "stdout",
     "output_type": "stream",
     "text": [
      "Expected reward (per traj): 0.8680000000000004\n",
      "Expected reward (per step): 0.19862700228832952 \n",
      "\n",
      "\n",
      " Data(x=[3, 3], edge_index=[2, 6])\n",
      "[2, 1]\n",
      "0.0\n",
      "False\n",
      "\n",
      " Data(x=[3, 3], edge_index=[2, 6])\n",
      "[1, 4]\n",
      "0.0\n",
      "False\n",
      "\n",
      " Data(x=[3, 3], edge_index=[2, 6])\n",
      "[2, 4]\n",
      "0.0\n",
      "False\n",
      "\n",
      " Data(x=[3, 3], edge_index=[2, 6])\n",
      "[2, 4]\n",
      "0.0\n",
      "False\n",
      "\n",
      " Data(x=[3, 3], edge_index=[2, 6])\n",
      "[4, 4]\n",
      "0.9\n",
      "True\n"
     ]
    }
   ],
   "source": [
    "example_policy = sysRolloutPolicy() \n",
    "path_collector = MdpPathCollector(env, example_policy)\n",
    "paths = path_collector.collect_new_paths(100, max_len, False)\n",
    "expected_heuristic_pt = mean_reward_per_traj(paths)\n",
    "print(\"Expected reward (per traj):\", expected_heuristic_pt)\n",
    "expected_heuristic = mean_reward(paths)\n",
    "print(\"Expected reward (per step):\", expected_heuristic, '\\n')\n",
    "\n",
    "idx = np.random.randint(100)\n",
    "for s, a, r, t in zip(paths[idx]['observations'], paths[idx]['actions'], \n",
    "                      paths[idx]['rewards'], paths[idx]['terminals']):\n",
    "    print('\\n', s)\n",
    "    print(a)\n",
    "    print(r)\n",
    "    print(t)"
   ]
  },
  {
   "cell_type": "code",
   "execution_count": 16,
   "id": "148c4f64",
   "metadata": {},
   "outputs": [],
   "source": [
    "qf = droneDeliveryModel(in_channels, out_channels, 8)\n",
    "qf.to(device)"
   ]
  },
  {
   "cell_type": "code",
   "execution_count": 17,
   "id": "824fe8fe",
   "metadata": {},
   "outputs": [
    {
     "name": "stdout",
     "output_type": "stream",
     "text": [
      "Expected reward (per traj): -0.1\n",
      "Expected reward (per step): -0.01451378809869376\n",
      "\n",
      " Data(x=[3, 3], edge_index=[2, 6])\n",
      "[1 1]\n",
      "0.0\n",
      "False\n",
      "\n",
      " Data(x=[3, 3], edge_index=[2, 6])\n",
      "[1 1]\n",
      "0.0\n",
      "False\n",
      "\n",
      " Data(x=[3, 3], edge_index=[2, 6])\n",
      "[1 1]\n",
      "0.0\n",
      "False\n",
      "\n",
      " Data(x=[3, 3], edge_index=[2, 6])\n",
      "[1 1]\n",
      "0.0\n",
      "False\n",
      "\n",
      " Data(x=[3, 3], edge_index=[2, 6])\n",
      "[1 1]\n",
      "0.0\n",
      "False\n",
      "\n",
      " Data(x=[3, 3], edge_index=[2, 6])\n",
      "[1 1]\n",
      "0.0\n",
      "False\n",
      "\n",
      " Data(x=[3, 3], edge_index=[2, 6])\n",
      "[1 1]\n",
      "0.0\n",
      "False\n"
     ]
    }
   ],
   "source": [
    "example_policy = argmaxDiscretePolicy(qf) \n",
    "path_collector = MdpPathCollector(env, example_policy)\n",
    "paths = path_collector.collect_new_paths(100, max_len, False)\n",
    "expected_random_pt =  mean_reward_per_traj(paths)\n",
    "print(\"Expected reward (per traj):\", expected_random_pt)\n",
    "expected_random = mean_reward(paths)\n",
    "print(\"Expected reward (per step):\", expected_random)\n",
    "\n",
    "idx = np.random.randint(100)\n",
    "for s, a, r, t in zip(paths[idx]['observations'], paths[idx]['actions'], \n",
    "                      paths[idx]['rewards'], paths[idx]['terminals']):\n",
    "    print('\\n', s)\n",
    "    print(a)\n",
    "    print(r)\n",
    "    print(t)\n",
    "    "
   ]
  },
  {
   "cell_type": "markdown",
   "id": "b460487c",
   "metadata": {},
   "source": [
    "#### train"
   ]
  },
  {
   "cell_type": "code",
   "execution_count": 18,
   "id": "c93d2aad",
   "metadata": {},
   "outputs": [],
   "source": [
    "RANDOM_SEED = 0\n",
    "\n",
    "torch.manual_seed(RANDOM_SEED)\n",
    "np.random.seed(RANDOM_SEED)\n",
    "env.seed(RANDOM_SEED)"
   ]
  },
  {
   "cell_type": "code",
   "execution_count": 19,
   "id": "cca3a547",
   "metadata": {},
   "outputs": [],
   "source": [
    "qf = droneDeliveryModel(in_channels, out_channels, 32, bounds=env.get_size())\n",
    "qf.to(device)\n",
    "\n",
    "target_qf = droneDeliveryModel(in_channels, out_channels, 32, bounds=env.get_size())\n",
    "target_qf.to(device)"
   ]
  },
  {
   "cell_type": "code",
   "execution_count": 20,
   "id": "f450df2a",
   "metadata": {},
   "outputs": [],
   "source": [
    "qf_criterion = nn.MSELoss()\n",
    "eval_policy = argmaxDiscretePolicy(qf)\n",
    "# expl_policy = sysRolloutPolicy()\n",
    "expl_policy = epsilonGreedyPolicy(qf, env.aspace, eps=.1)\n",
    "# expl_policy = epsilonGreedyPolicy(qf, env.aspace, eps=.5, sim_annealing_fac=.9)"
   ]
  },
  {
   "cell_type": "code",
   "execution_count": 21,
   "id": "5d8aac57",
   "metadata": {},
   "outputs": [],
   "source": [
    "replay_buffer_cap = 1000 # 256"
   ]
  },
  {
   "cell_type": "code",
   "execution_count": 22,
   "id": "b260bcf2",
   "metadata": {},
   "outputs": [],
   "source": [
    "expl_path_collector = MdpPathCollector(env, expl_policy) \n",
    "eval_path_collector = MdpPathCollector(env, eval_policy)\n",
    "replay_buffer = anyReplayBuffer(replay_buffer_cap, prioritized=True)\n",
    "optimizer = Adam(qf.parameters(), lr=5E-3)"
   ]
  },
  {
   "cell_type": "code",
   "execution_count": 23,
   "id": "1146f30f",
   "metadata": {},
   "outputs": [
    {
     "name": "stdout",
     "output_type": "stream",
     "text": [
      "iter  1  -> loss:  0.0022299396950984374 , rewards: (train)  -0.0077392581770254765 , (test)  -0.08281250000000001\n",
      "iter  2  -> loss:  0.0020744321670918 , rewards: (train)  -0.005058288841155445 , (test)  -0.057031250000000006\n",
      "iter  3  -> loss:  0.0016363253162126057 , rewards: (train)  -0.006356811855994238 , (test)  -0.055468750000000004\n",
      "iter  4  -> loss:  0.0007471966005141439 , rewards: (train)  -0.008186340462998487 , (test)  -0.1015625\n",
      "iter  5  -> loss:  0.002666927176505851 , rewards: (train)  -0.00806732225100859 , (test)  -0.08281250000000001\n",
      "iter  6  -> loss:  0.004790293056430528 , rewards: (train)  0.007716368912952021 , (test)  -0.059375\n",
      "iter  7  -> loss:  0.0027335755721651367 , rewards: (train)  0.0050903315716368525 , (test)  -0.036718749999999994\n",
      "iter  8  -> loss:  0.003434175651818805 , rewards: (train)  0.008848570717645998 , (test)  -0.09140625\n",
      "iter  9  -> loss:  0.00446088973149017 , rewards: (train)  0.02364654316806991 , (test)  -0.06875\n",
      "iter  10  -> loss:  0.002565716140452423 , rewards: (train)  -0.0008712782860129664 , (test)  -0.1453125\n",
      "iter  11  -> loss:  0.0032700536439733696 , rewards: (train)  0.04488219984341413 , (test)  0.0953125\n",
      "iter  12  -> loss:  0.0024648222151881782 , rewards: (train)  0.04875030295806937 , (test)  0.023437499999999997\n",
      "iter  13  -> loss:  0.0016833933368616272 , rewards: (train)  -0.0008422856278684776 , (test)  -0.060937500000000006\n",
      "iter  14  -> loss:  0.002567462093793438 , rewards: (train)  0.05446777075121645 , (test)  0.00703125\n",
      "iter  15  -> loss:  0.002194623120885808 , rewards: (train)  0.07132720632944256 , (test)  0.17109375\n",
      "iter  16  -> loss:  0.002174326166368701 , rewards: (train)  0.03298034488398116 , (test)  0.029687499999999995\n",
      "iter  17  -> loss:  0.00473973229782132 , rewards: (train)  0.08271941958810203 , (test)  0.22421875000000002\n",
      "iter  18  -> loss:  0.005228044426985434 , rewards: (train)  0.12953338422812521 , (test)  0.33984375\n",
      "iter  19  -> loss:  0.004310919432100491 , rewards: (train)  0.13320007012225688 , (test)  0.31171875\n",
      "iter  20  -> loss:  0.0037888674669375177 , rewards: (train)  0.12324676150456071 , (test)  0.2265625\n",
      "iter  21  -> loss:  0.004719899590782006 , rewards: (train)  0.1785217309370637 , (test)  0.5875\n",
      "iter  22  -> loss:  0.0034000090818153694 , rewards: (train)  0.2569534364156425 , (test)  0.6726562500000002\n",
      "iter  23  -> loss:  0.0033479175272077555 , rewards: (train)  0.26579437777400017 , (test)  0.5632812500000001\n",
      "iter  24  -> loss:  0.0018159698711315286 , rewards: (train)  0.27017059933859855 , (test)  0.7570312500000002\n",
      "iter  25  -> loss:  0.0016654219034535345 , rewards: (train)  0.28021698619704694 , (test)  0.7515625000000001\n"
     ]
    }
   ],
   "source": [
    "n_epoch = 25\n",
    "n_iter = 128\n",
    "batch_size = 256*2 #128\n",
    "n_samples = replay_buffer_cap//max_len #256\n",
    "γ = 0.95\n",
    "\n",
    "loss = []\n",
    "avg_r_train = []\n",
    "avg_r_test = []\n",
    "\n",
    "for i in range(n_epoch):\n",
    "    qf.train(False)\n",
    "    paths = eval_path_collector.collect_new_paths(128, max_len, False)\n",
    "    avg_r_test.append(mean_reward_per_traj(paths))\n",
    "    \n",
    "    paths = expl_path_collector.collect_new_paths(n_samples, max_len, False)\n",
    "    replay_buffer.add_paths(paths) \n",
    "    \n",
    "    qf.train(True)\n",
    "    if n_epoch > 0:\n",
    "        expl_path_collector._policy.simulated_annealing()\n",
    "        \n",
    "    for _ in range(n_iter):\n",
    "        batch = replay_buffer.random_batch(batch_size)\n",
    "        rewards = torch.Tensor(batch['rewards']).unsqueeze(-1).to(device)\n",
    "        terminals = torch.Tensor(batch['terminals']).unsqueeze(-1).to(device)\n",
    "        actions = torch.Tensor(batch['actions']).to(device)\n",
    "\n",
    "        obs = batch['observations']\n",
    "        next_obs = batch['next_observations']\n",
    "                \n",
    "        out = torch.stack(list(map(target_qf, next_obs)), axis=0)         \n",
    "        target_q_values = out.max(-1, keepdims=False).values\n",
    "        y_target = rewards + (1. - terminals) * γ * target_q_values \n",
    "        out = torch.stack(list(map(qf, obs)), axis=0)\n",
    "               \n",
    "        actions_one_hot = F.one_hot(actions.to(torch.int64), len(action))\n",
    "        y_pred = torch.sum(out * actions_one_hot, dim=-1, keepdim=False)\n",
    "        qf_loss = qf_criterion(y_pred, y_target)\n",
    "        \n",
    "        loss.append(qf_loss.item())\n",
    "        avg_r_train.append(rewards.mean().item())\n",
    "        \n",
    "        optimizer.zero_grad() \n",
    "        qf_loss.backward()\n",
    "        optimizer.step()\n",
    "        \n",
    "#     print(qf.state_dict().items())\n",
    "    \n",
    "    target_qf.load_state_dict(deepcopy(qf.state_dict()))\n",
    "    print(\"iter \", i+1, \" -> loss: \", np.mean(loss[-n_iter:]),\n",
    "          \", rewards: (train) \", np.mean(avg_r_train[-n_iter:]),\n",
    "          \", (test) \", avg_r_test[-1])"
   ]
  },
  {
   "cell_type": "markdown",
   "id": "e8add1e2",
   "metadata": {},
   "source": [
    "```python\n",
    "iter  1  -> loss:  0.005744052593363449 , rewards: (train)  -0.013046875492436811 , (test)  -0.10546875\n",
    "iter  2  -> loss:  0.004142524041235447 , rewards: (train)  -0.010589844358619302 , (test)  -0.0390625\n",
    "iter  3  -> loss:  0.0020942307537188754 , rewards: (train)  -0.00910546915140003 , (test)  -0.109375\n",
    "iter  4  -> loss:  0.0005856128476443701 , rewards: (train)  -0.0076171877887099984 , (test)  -0.075\n",
    "iter  5  -> loss:  0.005503449073294178 , rewards: (train)  -0.0010000006461632438 , (test)  -0.056249999999999994\n",
    "iter  6  -> loss:  0.0028127795993350448 , rewards: (train)  -0.0046093757011112756 , (test)  -0.09374999999999999\n",
    "iter  7  -> loss:  0.001561150774359703 , rewards: (train)  -0.005738281612575519 , (test)  -0.0578125\n",
    "iter  8  -> loss:  0.002337428479222581 , rewards: (train)  0.004746092908317223 , (test)  -0.084375\n",
    "iter  9  -> loss:  0.0028515664429869503 , rewards: (train)  0.012218748410232365 , (test)  -0.011718749999999993\n",
    "iter  10  -> loss:  0.003914747700328007 , rewards: (train)  0.02308202946325764 , (test)  -0.03046875\n",
    "iter  11  -> loss:  0.005610441728495061 , rewards: (train)  0.07563280925154686 , (test)  0.12031249999999999\n",
    "iter  12  -> loss:  0.006544339777901769 , rewards: (train)  0.08837890211492777 , (test)  0.24296875\n",
    "iter  13  -> loss:  0.006171073925215751 , rewards: (train)  0.12112890236079693 , (test)  0.309375\n",
    "iter  14  -> loss:  0.005190491117537022 , rewards: (train)  0.1546992129087448 , (test)  0.353125\n",
    "iter  15  -> loss:  0.004177056159824133 , rewards: (train)  0.1319960881024599 , (test)  0.39609375\n",
    "iter  16  -> loss:  0.0029170020774472506 , rewards: (train)  0.15752343222498894 , (test)  0.43281250000000004\n",
    "iter  17  -> loss:  0.0022686708194669335 , rewards: (train)  0.13912499576807022 , (test)  0.33984375000000006\n",
    "iter  18  -> loss:  0.0020635207055602223 , rewards: (train)  0.1745195271074772 , (test)  0.47734375000000007\n",
    "iter  19  -> loss:  0.002101457616081461 , rewards: (train)  0.19844530582427977 , (test)  0.534375\n",
    "iter  20  -> loss:  0.0018545197823550553 , rewards: (train)  0.2221288998425007 , (test)  0.5992187500000001\n",
    "iter  21  -> loss:  0.001915733974892646 , rewards: (train)  0.23183983623981474 , (test)  0.6531250000000002\n",
    "iter  22  -> loss:  0.0016982204536907374 , rewards: (train)  0.2492187437415123 , (test)  0.6562500000000001\n",
    "iter  23  -> loss:  0.0010978709120536222 , rewards: (train)  0.24905077442526818 , (test)  0.6492187500000002\n",
    "iter  24  -> loss:  0.0011034197406843305 , rewards: (train)  0.24221483528614043 , (test)  0.6664062500000002\n",
    "iter  25  -> loss:  0.0009297203458845615 , rewards: (train)  0.25066796243190764 , (test)  0.7531250000000002\n",
    "        ```"
   ]
  },
  {
   "cell_type": "markdown",
   "id": "03610e58",
   "metadata": {},
   "source": [
    "##### notes\n",
    "1. can we increase the learning rate to 1e-2? Would that help speed the process along? loss curve it pretty flat.\n"
   ]
  },
  {
   "cell_type": "code",
   "execution_count": 24,
   "id": "11cde7a4",
   "metadata": {},
   "outputs": [
    {
     "name": "stdout",
     "output_type": "stream",
     "text": [
      "This eval took me  2082.8136582374573  seconds. Thanks for waiting :)\n"
     ]
    }
   ],
   "source": [
    "print(\"This eval took me \", time.time() - start_time, \" seconds. Thanks for waiting :)\")"
   ]
  },
  {
   "cell_type": "code",
   "execution_count": 29,
   "id": "b86eedd5",
   "metadata": {},
   "outputs": [],
   "source": [
    "# torch.save(qf.state_dict(), \"qf_multi_norm_heterogen1.pt\")"
   ]
  },
  {
   "cell_type": "markdown",
   "id": "3ed42c24",
   "metadata": {},
   "source": [
    "#### Plots"
   ]
  },
  {
   "cell_type": "code",
   "execution_count": 26,
   "id": "97258411",
   "metadata": {},
   "outputs": [],
   "source": [
    "import matplotlib.pyplot as plt"
   ]
  },
  {
   "cell_type": "code",
   "execution_count": 27,
   "id": "ec1731c8",
   "metadata": {},
   "outputs": [
    {
     "data": {
      "text/plain": [
       "<matplotlib.legend.Legend at 0x7fc6b0fabe50>"
      ]
     },
     "execution_count": 27,
     "metadata": {},
     "output_type": "execute_result"
    },
    {
     "data": {
      "image/png": "[encoded data removed]",
      "text/plain": [
       "<Figure size 432x288 with 1 Axes>"
      ]
     },
     "metadata": {
      "needs_background": "light"
     },
     "output_type": "display_data"
    }
   ],
   "source": [
    "plt.plot(np.arange(n_iter*n_epoch), [expected_random_pt]*(n_iter*n_epoch), label = \"random\", color='lightgray')\n",
    "plt.plot(np.arange(n_iter*n_epoch), [expected_heuristic_pt]*(n_iter*n_epoch), label = \"move to closest\",  color='darkgray')\n",
    "\n",
    "plt.plot(np.arange(n_iter*n_epoch), avg_r_train, label = \"avg R (train)\")\n",
    "plt.plot(np.arange(n_iter, n_iter*n_epoch+1, step=n_iter), avg_r_test, label = \"avg R (test)\")\n",
    "plt.legend()\n",
    "\n",
    "# plt.savefig('training_log.png', dpi=300)"
   ]
  },
  {
   "cell_type": "code",
   "execution_count": 28,
   "id": "616eaf54",
   "metadata": {},
   "outputs": [
    {
     "data": {
      "text/plain": [
       "[<matplotlib.lines.Line2D at 0x7fc6b0b76950>]"
      ]
     },
     "execution_count": 28,
     "metadata": {},
     "output_type": "execute_result"
    },
    {
     "data": {
      "image/png": "[encoded data removed]",
      "text/plain": [
       "<Figure size 432x288 with 1 Axes>"
      ]
     },
     "metadata": {
      "needs_background": "light"
     },
     "output_type": "display_data"
    }
   ],
   "source": [
    "plt.plot(loss)"
   ]
  },
  {
   "cell_type": "code",
   "execution_count": null,
   "id": "16d0ccae",
   "metadata": {},
   "outputs": [],
   "source": []
  }
 ],
 "metadata": {
  "kernelspec": {
   "display_name": "Python [conda env:rlpyt] *",
   "language": "python",
   "name": "conda-env-rlpyt-py"
  },
  "language_info": {
   "codemirror_mode": {
    "name": "ipython",
    "version": 3
   },
   "file_extension": ".py",
   "mimetype": "text/x-python",
   "name": "python",
   "nbconvert_exporter": "python",
   "pygments_lexer": "ipython3",
   "version": "3.7.11"
  }
 },
 "nbformat": 4,
 "nbformat_minor": 5
}
