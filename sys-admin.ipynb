{
 "cells": [
  {
   "cell_type": "code",
   "execution_count": 1,
   "id": "11840dd7",
   "metadata": {},
   "outputs": [],
   "source": [
    "import numpy as np\n",
    "import pdb\n",
    "import torch\n",
    "import torch.nn as nn\n",
    "from torch_geometric.data import Data\n",
    "\n",
    "from env.sys_admin import *\n",
    "from gnn_model import GraphGNNModel\n",
    "\n",
    "import sys\n",
    "sys.path.append('/home/victorialena/rlkit')\n",
    "\n",
    "import rlkit\n",
    "# from rlkit.samplers.data_collector import MdpPathCollector\n",
    "from path_collector import MdpPathCollector\n",
    "from rlkit.torch.torch_rl_algorithm import TorchBatchRLAlgorithm\n",
    "\n",
    "from any_replay_buffer import anyReplayBuffer\n",
    "from dqn import DQNTrainer\n",
    "from policies import *"
   ]
  },
  {
   "cell_type": "code",
   "execution_count": 2,
   "id": "8d31cdc7",
   "metadata": {},
   "outputs": [
    {
     "data": {
      "image/png": "[encoded data removed]",
      "text/plain": [
       "<Figure size 432x288 with 1 Axes>"
      ]
     },
     "metadata": {},
     "output_type": "display_data"
    }
   ],
   "source": [
    "env = sysAdmin(nnodes=6, njobs=25)\n",
    "x = env.reset(topology='star')\n",
    "env.render()"
   ]
  },
  {
   "cell_type": "markdown",
   "id": "b3490a63",
   "metadata": {},
   "source": [
    "```python\n",
    "a = env.action_space.sample()\n",
    "data, r, _, _ = env.step(a)\n",
    "```"
   ]
  },
  {
   "cell_type": "code",
   "execution_count": 3,
   "id": "9d680ba9",
   "metadata": {},
   "outputs": [],
   "source": [
    "in_channels = len(load)+len(status)\n",
    "out_channels = len(action)"
   ]
  },
  {
   "cell_type": "code",
   "execution_count": 4,
   "id": "7a97994b",
   "metadata": {},
   "outputs": [],
   "source": [
    "device = torch.cuda.current_device() if torch.cuda.is_available() else 'cpu'"
   ]
  },
  {
   "cell_type": "code",
   "execution_count": 5,
   "id": "b0c9b163",
   "metadata": {},
   "outputs": [],
   "source": [
    "from collections import OrderedDict\n",
    "\n",
    "from torch.nn import Linear, ReLU\n",
    "import torch.nn.functional as F\n",
    "\n",
    "class sysAdminModel(nn.Module):\n",
    "    \n",
    "    def __init__(self, c_in, c_out, c_hidden=64, dp_rate_linear=0.5, **kwargs):\n",
    "        \n",
    "        super().__init__()\n",
    "        \n",
    "        self.model = nn.Sequential(OrderedDict([\n",
    "            ('fc1', nn.Linear(in_channels, c_hidden)),\n",
    "            ('relu1', nn.ReLU()),\n",
    "            ('fc2', nn.Linear(c_hidden, out_channels)),\n",
    "#             ('relu2', nn.ReLU()),\n",
    "#             ('fc3', nn.Linear(c_hidden, out_channels)),\n",
    "            ('act', nn.Softmax(dim=1))\n",
    "        ]))\n",
    "\n",
    "        self._device = 'cpu'\n",
    "\n",
    "    def forward(self, x, edge_index):\n",
    "        return self.model(x.to(self._device))\n",
    "    \n",
    "    def to(self, device):\n",
    "        super().to(device)\n",
    "        self._device = device"
   ]
  },
  {
   "cell_type": "code",
   "execution_count": 6,
   "id": "5b559111",
   "metadata": {},
   "outputs": [],
   "source": [
    "qf = sysAdminModel(in_channels, out_channels)\n",
    "target_qf = sysAdminModel(in_channels, out_channels)\n",
    "\n",
    "# qf = GraphGNNModel(in_channels, 256, out_channels, use_edge_weight=False)\n",
    "# target_qf = GraphGNNModel(in_channels, 256, out_channels, use_edge_weight=False)"
   ]
  },
  {
   "cell_type": "code",
   "execution_count": 7,
   "id": "a8783bc0",
   "metadata": {},
   "outputs": [],
   "source": [
    "from rlkit.policies.base import Policy\n",
    "\n",
    "class sysRolloutPolicy(nn.Module, Policy):\n",
    "    def __init__(self, aspace, eps=0.05):\n",
    "        super().__init__()\n",
    "        self.eps = eps\n",
    "        self.aspace = aspace\n",
    "\n",
    "    def get_action(self, obs):\n",
    "        if rand() < self.eps:\n",
    "            return self.aspace.sample(), {}\n",
    "        return torch.where(obs.x[:, 0]==status.dead, action.reboot, action.noop).cpu().detach().numpy(), {}\n"
   ]
  },
  {
   "cell_type": "code",
   "execution_count": 8,
   "id": "e35f8a46",
   "metadata": {},
   "outputs": [],
   "source": [
    "qf_criterion = nn.MSELoss() #nn.CrossEntropyLoss() #nn.MSELoss()\n",
    "eval_policy = argmaxDiscretePolicy(qf, format_data)\n",
    "# expl_policy = sysRolloutPolicy(env.action_space)\n",
    "expl_policy = epsilonGreedyPolicy(qf, format_data, env.action_space, eps=0.05)"
   ]
  },
  {
   "cell_type": "markdown",
   "id": "17899016",
   "metadata": {},
   "source": [
    "```python\n",
    "expl_policy = sysRolloutPolicy(env.action_space)\n",
    "expl_path_collector = MdpPathCollector(env, expl_policy)\n",
    "paths = expl_path_collector.collect_new_paths(1, 40, False)\n",
    "\n",
    "for s, a, r, t in zip(paths[0]['observations'], paths[0]['actions'], \n",
    "                      paths[0]['rewards'], paths[0]['terminals']):\n",
    "    print(s.x)\n",
    "    print(a)\n",
    "    print(r)\n",
    "    print(t)\n",
    "```"
   ]
  },
  {
   "cell_type": "code",
   "execution_count": 9,
   "id": "1bc349ce",
   "metadata": {},
   "outputs": [],
   "source": [
    "from torch.optim import Adam"
   ]
  },
  {
   "cell_type": "code",
   "execution_count": 10,
   "id": "0960b137",
   "metadata": {},
   "outputs": [],
   "source": [
    "expl_path_collector = MdpPathCollector(env, expl_policy)\n",
    "eval_path_collector = MdpPathCollector(env, eval_policy)\n",
    "replay_buffer = anyReplayBuffer(10000)\n",
    "optimizer = Adam(qf.parameters(), lr=1E-4)"
   ]
  },
  {
   "cell_type": "markdown",
   "id": "4a2ebd51",
   "metadata": {},
   "source": [
    "#### Reinforcement Learning"
   ]
  },
  {
   "cell_type": "code",
   "execution_count": 11,
   "id": "04495e1b",
   "metadata": {},
   "outputs": [
    {
     "name": "stdout",
     "output_type": "stream",
     "text": [
      "iter  0  -> loss:  4.007802963256836 , rewards:  -1.44482421875\n",
      "iter  1  -> loss:  4.075602054595947 , rewards:  -1.47265625\n",
      "iter  2  -> loss:  4.034618854522705 , rewards:  -1.47265625\n",
      "iter  3  -> loss:  3.9768521785736084 , rewards:  -1.4599609375\n",
      "iter  4  -> loss:  3.896735429763794 , rewards:  -1.44921875\n",
      "iter  5  -> loss:  3.8800208568573 , rewards:  -1.45703125\n",
      "iter  6  -> loss:  3.8534107208251953 , rewards:  -1.458984375\n",
      "iter  7  -> loss:  3.374918222427368 , rewards:  -1.27880859375\n",
      "iter  8  -> loss:  3.005838632583618 , rewards:  -1.13427734375\n",
      "iter  9  -> loss:  2.6532323360443115 , rewards:  -0.99658203125\n",
      "iter  10  -> loss:  2.4861133098602295 , rewards:  -0.93359375\n",
      "iter  11  -> loss:  1.9483038187026978 , rewards:  -0.71044921875\n",
      "iter  12  -> loss:  1.7945648431777954 , rewards:  -0.642578125\n",
      "iter  13  -> loss:  1.277905821800232 , rewards:  -0.42724609375\n",
      "iter  14  -> loss:  1.2084096670150757 , rewards:  -0.39794921875\n",
      "iter  15  -> loss:  0.7195394039154053 , rewards:  -0.18798828125\n",
      "iter  16  -> loss:  0.37000954151153564 , rewards:  -0.03955078125\n",
      "iter  17  -> loss:  0.375887006521225 , rewards:  -0.04736328125\n",
      "iter  18  -> loss:  0.35280025005340576 , rewards:  -0.03515625\n",
      "iter  19  -> loss:  0.3687000274658203 , rewards:  -0.0439453125\n",
      "iter  20  -> loss:  0.3485553562641144 , rewards:  -0.0361328125\n",
      "iter  21  -> loss:  0.36167851090431213 , rewards:  -0.04443359375\n",
      "iter  22  -> loss:  0.34837841987609863 , rewards:  -0.03662109375\n",
      "iter  23  -> loss:  0.3484831750392914 , rewards:  -0.041015625\n",
      "iter  24  -> loss:  0.34885358810424805 , rewards:  -0.044921875\n",
      "iter  25  -> loss:  0.3154545724391937 , rewards:  -0.02880859375\n",
      "iter  26  -> loss:  0.31949976086616516 , rewards:  -0.03271484375\n",
      "iter  27  -> loss:  0.35133659839630127 , rewards:  -0.05029296875\n",
      "iter  28  -> loss:  0.32275307178497314 , rewards:  -0.03857421875\n",
      "iter  29  -> loss:  0.31724438071250916 , rewards:  -0.03759765625\n",
      "iter  30  -> loss:  0.5742763876914978 , rewards:  -0.14013671875\n",
      "iter  31  -> loss:  1.0396147966384888 , rewards:  -0.32763671875\n",
      "iter  32  -> loss:  1.2676881551742554 , rewards:  -0.4150390625\n",
      "iter  33  -> loss:  1.8844496011734009 , rewards:  -0.662109375\n",
      "iter  34  -> loss:  2.1412947177886963 , rewards:  -0.765625\n",
      "iter  35  -> loss:  2.536104917526245 , rewards:  -0.9267578125\n",
      "iter  36  -> loss:  2.433553695678711 , rewards:  -0.8916015625\n",
      "iter  37  -> loss:  2.4258899688720703 , rewards:  -0.89794921875\n",
      "iter  38  -> loss:  2.4283483028411865 , rewards:  -0.9033203125\n",
      "iter  39  -> loss:  2.490882396697998 , rewards:  -0.939453125\n",
      "iter  40  -> loss:  1.9894968271255493 , rewards:  -0.72802734375\n",
      "iter  41  -> loss:  1.6823512315750122 , rewards:  -0.60205078125\n",
      "iter  42  -> loss:  1.2537330389022827 , rewards:  -0.41552734375\n",
      "iter  43  -> loss:  1.0868085622787476 , rewards:  -0.34326171875\n",
      "iter  44  -> loss:  0.7338078618049622 , rewards:  -0.19140625\n",
      "iter  45  -> loss:  0.369858056306839 , rewards:  -0.03369140625\n",
      "iter  46  -> loss:  0.3762710392475128 , rewards:  -0.04052734375\n",
      "iter  47  -> loss:  0.3725241720676422 , rewards:  -0.04248046875\n",
      "iter  48  -> loss:  0.3542427122592926 , rewards:  -0.03466796875\n",
      "iter  49  -> loss:  0.3612876236438751 , rewards:  -0.041015625\n",
      "iter  50  -> loss:  0.36825552582740784 , rewards:  -0.0458984375\n",
      "iter  51  -> loss:  0.3253355026245117 , rewards:  -0.0283203125\n",
      "iter  52  -> loss:  0.3251676857471466 , rewards:  -0.02880859375\n",
      "iter  53  -> loss:  0.3357091248035431 , rewards:  -0.03955078125\n",
      "iter  54  -> loss:  0.3673841655254364 , rewards:  -0.0556640625\n",
      "iter  55  -> loss:  0.3344072103500366 , rewards:  -0.0419921875\n",
      "iter  56  -> loss:  0.3234091103076935 , rewards:  -0.0419921875\n",
      "iter  57  -> loss:  0.7023575901985168 , rewards:  -0.189453125\n",
      "iter  58  -> loss:  1.053242564201355 , rewards:  -0.32958984375\n",
      "iter  59  -> loss:  1.3889309167861938 , rewards:  -0.462890625\n",
      "iter  60  -> loss:  1.6863840818405151 , rewards:  -0.580078125\n",
      "iter  61  -> loss:  2.2253715991973877 , rewards:  -0.80126953125\n",
      "iter  62  -> loss:  1.9201430082321167 , rewards:  -0.6806640625\n",
      "iter  63  -> loss:  1.965031623840332 , rewards:  -0.70361328125\n",
      "iter  64  -> loss:  2.0325822830200195 , rewards:  -0.734375\n",
      "iter  65  -> loss:  2.0406577587127686 , rewards:  -0.744140625\n",
      "iter  66  -> loss:  2.0587666034698486 , rewards:  -0.7548828125\n",
      "iter  67  -> loss:  1.7625452280044556 , rewards:  -0.63232421875\n",
      "iter  68  -> loss:  1.2868971824645996 , rewards:  -0.43115234375\n",
      "iter  69  -> loss:  1.0960057973861694 , rewards:  -0.35205078125\n",
      "iter  70  -> loss:  0.7177338600158691 , rewards:  -0.1865234375\n",
      "iter  71  -> loss:  0.37281492352485657 , rewards:  -0.03857421875\n",
      "iter  72  -> loss:  0.381590873003006 , rewards:  -0.04541015625\n",
      "iter  73  -> loss:  0.3234633207321167 , rewards:  -0.01806640625\n",
      "iter  74  -> loss:  0.32525086402893066 , rewards:  -0.0234375\n",
      "iter  75  -> loss:  0.3464567959308624 , rewards:  -0.0361328125\n",
      "iter  76  -> loss:  0.33856895565986633 , rewards:  -0.03564453125\n",
      "iter  77  -> loss:  0.3469163477420807 , rewards:  -0.0439453125\n",
      "iter  78  -> loss:  0.3245052695274353 , rewards:  -0.03466796875\n",
      "iter  79  -> loss:  0.3162103593349457 , rewards:  -0.03515625\n",
      "iter  80  -> loss:  0.31596359610557556 , rewards:  -0.03515625\n",
      "iter  81  -> loss:  0.619870126247406 , rewards:  -0.15625\n",
      "iter  82  -> loss:  1.043654441833496 , rewards:  -0.326171875\n",
      "iter  83  -> loss:  1.3462409973144531 , rewards:  -0.4501953125\n",
      "iter  84  -> loss:  1.7239240407943726 , rewards:  -0.59814453125\n",
      "iter  85  -> loss:  2.139457941055298 , rewards:  -0.76513671875\n",
      "iter  86  -> loss:  2.475536346435547 , rewards:  -0.90625\n",
      "iter  87  -> loss:  2.458880662918091 , rewards:  -0.9091796875\n",
      "iter  88  -> loss:  2.4389119148254395 , rewards:  -0.90771484375\n",
      "iter  89  -> loss:  2.2957146167755127 , rewards:  -0.8603515625\n",
      "iter  90  -> loss:  2.1673176288604736 , rewards:  -0.81103515625\n",
      "iter  91  -> loss:  2.102195978164673 , rewards:  -0.7890625\n",
      "iter  92  -> loss:  1.6387308835983276 , rewards:  -0.58935546875\n",
      "iter  93  -> loss:  1.4364887475967407 , rewards:  -0.4990234375\n",
      "iter  94  -> loss:  1.1747939586639404 , rewards:  -0.38525390625\n",
      "iter  95  -> loss:  0.680223286151886 , rewards:  -0.16064453125\n",
      "iter  96  -> loss:  0.4062395989894867 , rewards:  -0.04296875\n",
      "iter  97  -> loss:  0.3719610869884491 , rewards:  -0.02685546875\n",
      "iter  98  -> loss:  0.38371530175209045 , rewards:  -0.0390625\n",
      "iter  99  -> loss:  0.36364832520484924 , rewards:  -0.03125\n"
     ]
    }
   ],
   "source": [
    "for i in range(100):\n",
    "    paths = expl_path_collector.collect_new_paths(1000, 40, False)\n",
    "    replay_buffer.add_paths(paths)\n",
    "    \n",
    "    qf.train(True)\n",
    "    loss = []\n",
    "    avg_r = []\n",
    "    for _ in range(10):\n",
    "        loss.clear()\n",
    "        avg_r.clear()\n",
    "        batch = replay_buffer.random_batch(512)\n",
    "        rewards = torch.Tensor(batch['rewards']).unsqueeze(-1)\n",
    "        terminals = torch.Tensor(batch['terminals'])\n",
    "        actions = torch.Tensor(batch['actions'])\n",
    "\n",
    "        obs = batch['observations']\n",
    "        next_obs = batch['next_observations']\n",
    "    \n",
    "        ff = lambda x: target_qf(*x)\n",
    "        out = torch.stack(list(map(ff, map(format_data, obs))), axis=0).cpu()\n",
    "        target_q_values = out.max(-1).values\n",
    "#         pdb.set_trace()\n",
    "        y_target = rewards + (1. - terminals) * 0.95 * target_q_values\n",
    "        \n",
    "        ff = lambda x: qf(*x)\n",
    "        out = torch.stack(list(map(ff, map(format_data, obs))), axis=0).cpu()\n",
    "        \n",
    "        actions_one_hot = F.one_hot(actions.to(torch.int64))\n",
    "        y_pred = torch.sum(out * actions_one_hot, dim=-1)#.sum(1, keepdim=True)\n",
    "        qf_loss = qf_criterion(y_pred, y_target)\n",
    "        \n",
    "        loss.append(qf_loss.item())\n",
    "        avg_r.append(rewards.mean().item())\n",
    "        \n",
    "        optimizer.zero_grad()\n",
    "        qf_loss.backward()\n",
    "        optimizer.step()\n",
    "    \n",
    "    target_qf.load_state_dict(qf.state_dict())\n",
    "    print(\"iter \", i, \" -> loss: \", np.mean(loss), \", rewards: \", np.mean(avg_r))        "
   ]
  },
  {
   "cell_type": "markdown",
   "id": "aaf25159",
   "metadata": {},
   "source": [
    "#### Supervised Learning"
   ]
  },
  {
   "cell_type": "code",
   "execution_count": null,
   "id": "d70a1280",
   "metadata": {},
   "outputs": [],
   "source": [
    "for i in range(100):\n",
    "    paths = expl_path_collector.collect_new_paths(100, 80, False)\n",
    "    replay_buffer.add_paths(paths)\n",
    "    \n",
    "    qf.train(True)\n",
    "    loss = []\n",
    "    for _ in range(50):\n",
    "        loss.clear()\n",
    "        batch = replay_buffer.random_batch(256)\n",
    "        rewards = torch.Tensor(batch['rewards']).unsqueeze(-1)\n",
    "        terminals = torch.Tensor(batch['terminals'])\n",
    "        actions = torch.Tensor(batch['actions'])\n",
    "\n",
    "        obs = batch['observations']\n",
    "        next_obs = batch['next_observations']\n",
    "    \n",
    "        ff = lambda x: qf(*x)\n",
    "        out = torch.stack(list(map(ff, map(format_data, obs))), axis=0).cpu()        \n",
    "        qf_loss = qf_criterion(out.swapaxes(1,2), actions.to(torch.int64))\n",
    "        \n",
    "        loss.append(qf_loss.item())\n",
    "        \n",
    "        optimizer.zero_grad()\n",
    "        qf_loss.backward()\n",
    "        optimizer.step()\n",
    "        \n",
    "    print(\"iter \", i, \" -> loss: \", np.mean(loss))\n",
    "    \n",
    "    # test\n",
    "    # qf.train(False)\n",
    "        "
   ]
  },
  {
   "cell_type": "markdown",
   "id": "00026d1f",
   "metadata": {},
   "source": [
    "```python\n",
    "paths = expl_path_collector.collect_new_paths(10, 20, False)\n",
    "```"
   ]
  },
  {
   "cell_type": "code",
   "execution_count": null,
   "id": "51f50f56",
   "metadata": {},
   "outputs": [],
   "source": [
    "variant = dict(\n",
    "    algorithm=\"DQN\",\n",
    "    version=\"normal\",\n",
    "    layer_size=256,\n",
    "    replay_buffer_size=int(1E4),\n",
    "    algorithm_kwargs=dict(\n",
    "        num_epochs=300,\n",
    "        num_eval_steps_per_epoch=500,\n",
    "        num_trains_per_train_loop=100,\n",
    "        num_expl_steps_per_train_loop=100,\n",
    "        min_num_steps_before_training=100,\n",
    "        max_path_length=100,\n",
    "        batch_size=256,\n",
    "    ),\n",
    "    trainer_kwargs=dict(\n",
    "        discount=0.99,\n",
    "        learning_rate=1E-4,\n",
    "    ),\n",
    ")\n",
    "\n",
    "trainer = DQNTrainer(qf=qf,\n",
    "                     target_qf=target_qf,\n",
    "                     qf_criterion=qf_criterion,\n",
    "                     **variant['trainer_kwargs'],\n",
    "                     format_data = format_data)\n",
    "\n",
    "replay_buffer = anyReplayBuffer(variant['replay_buffer_size'])\n",
    "\n",
    "algorithm = TorchBatchRLAlgorithm(\n",
    "    trainer=trainer,\n",
    "    exploration_env=env,\n",
    "    evaluation_env=env,\n",
    "    exploration_data_collector=expl_path_collector,\n",
    "    evaluation_data_collector=eval_path_collector,\n",
    "    replay_buffer=replay_buffer,\n",
    "    **variant['algorithm_kwargs']\n",
    ")"
   ]
  },
  {
   "cell_type": "code",
   "execution_count": null,
   "id": "73509958",
   "metadata": {},
   "outputs": [],
   "source": [
    "algorithm.to(device)\n",
    "# algorithm.train()"
   ]
  },
  {
   "cell_type": "code",
   "execution_count": null,
   "id": "ed66e63c",
   "metadata": {},
   "outputs": [],
   "source": [
    "algorithm.train()"
   ]
  },
  {
   "cell_type": "markdown",
   "id": "be477426",
   "metadata": {},
   "source": [
    "### Notes\n",
    "1. Instead of a GCN use a normal GNN\n",
    "2. add self loops\n",
    "3. try over fitting a linear layer"
   ]
  },
  {
   "cell_type": "code",
   "execution_count": null,
   "id": "be1d5f65",
   "metadata": {},
   "outputs": [],
   "source": []
  }
 ],
 "metadata": {
  "kernelspec": {
   "display_name": "Python [conda env:rlpyt] *",
   "language": "python",
   "name": "conda-env-rlpyt-py"
  },
  "language_info": {
   "codemirror_mode": {
    "name": "ipython",
    "version": 3
   },
   "file_extension": ".py",
   "mimetype": "text/x-python",
   "name": "python",
   "nbconvert_exporter": "python",
   "pygments_lexer": "ipython3",
   "version": "3.7.11"
  }
 },
 "nbformat": 4,
 "nbformat_minor": 5
}
