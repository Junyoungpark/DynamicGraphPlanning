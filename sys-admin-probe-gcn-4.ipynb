{
 "cells": [
  {
   "cell_type": "code",
   "execution_count": 1,
   "id": "a44ef400",
   "metadata": {},
   "outputs": [],
   "source": [
    "import numpy as np\n",
    "import pdb\n",
    "import torch\n",
    "import torch.nn as nn\n",
    "from torch_geometric.data import Data\n",
    "\n",
    "# from env.sys_admin import *\n",
    "# from gnn_model import GraphGNNModel\n",
    "\n",
    "import sys\n",
    "sys.path.append('/home/victorialena/rlkit')\n",
    "\n",
    "import rlkit\n",
    "# from rlkit.samplers.data_collector import MdpPathCollector\n",
    "from path_collector import MdpPathCollector\n",
    "# from rlkit.torch.dqn.dqn import DQNTrainer\n",
    "# from rlkit.torch.torch_rl_algorithm import TorchBatchRLAlgorithm\n",
    "\n",
    "from any_replay_buffer import anyReplayBuffer\n",
    "# from dqn import DQNTrainer\n",
    "from policies import *"
   ]
  },
  {
   "cell_type": "code",
   "execution_count": 2,
   "id": "ffbfe241",
   "metadata": {},
   "outputs": [],
   "source": [
    "import numpy as np\n",
    "from numpy.random import randint, choice, rand\n",
    "import networkx as nx\n",
    "\n",
    "import gym\n",
    "from gym.spaces import MultiDiscrete\n",
    "\n",
    "import torch\n",
    "import torch.nn.functional as F\n",
    "import torch_geometric\n",
    "from torch_geometric.data import Data\n",
    "from torch_geometric.utils.random import erdos_renyi_graph\n",
    "from torch_geometric.utils import to_dense_adj, to_networkx\n",
    "\n",
    "from collections import namedtuple\n",
    "from copy import copy, deepcopy\n",
    "from typing import Optional\n",
    "from enum import Enum, IntEnum\n",
    "\n",
    "import pdb\n",
    "\n",
    "class status(IntEnum):\n",
    "    good=0\n",
    "    faulty=1\n",
    "    dead=2\n",
    "    \n",
    "class load(IntEnum):\n",
    "    idle=0\n",
    "    loaded=1\n",
    "    success=2\n",
    "    \n",
    "class action(IntEnum): \n",
    "    noop=0 \n",
    "    reboot=1\n",
    "    \n",
    "sysconfig = namedtuple(\"sysconfig\", \n",
    "                       ['p_fail_base', 'p_fail_bonus', 'p_dead_base', 'p_dead_bonus',\n",
    "                        'p_load', 'p_doneG', 'p_doneF',\n",
    "                        'discount', 'reboot_penalty', 'working', 'done'], \n",
    "                       defaults=[.25,.2,.1,.5,\n",
    "                                 .6,.9,.6,\n",
    "                                 .9, -.5, .1, 1.])\n",
    "\n",
    "format_input = lambda x: F.one_hot(x, num_classes=len(status)).reshape(-1,len(status)+len(load)).to(torch.float32)\n",
    "\n",
    "format_data = lambda x: (format_input(x.x), x.edge_index)\n",
    "\n",
    "format_data_input = lambda x: format_input(x.x)\n",
    "\n",
    "class sysAdminProbe(gym.Env):\n",
    "    \"\"\"\n",
    "    ### Description\n",
    "    \n",
    "    ### Action Space\n",
    "    Each community within the graph has governance of given nodes, an action notes the measure each \n",
    "    community is taking at any given time during simulation.\n",
    "    \n",
    "    ### State Space\n",
    "    The state is defined as an arbitrary input graph where each node has an associate SEIR state. The \n",
    "    edge weights reflect transmission probabilities if either node is infectious.\n",
    "    \n",
    "    ### Rewards\n",
    "    The reward model is defined as the sum of cost associated with each measure weighted by the size\n",
    "    of the affected community.\n",
    "    \n",
    "    ### Starting State\n",
    "    Randomly initilized stochastic Blockmodelgraph with predefined number of nodes and communities.\n",
    "    \n",
    "    ### Episode Termination\n",
    "    The simulation terminates when no node is infectious anymore. At this point the the desease can\n",
    "    no longer spread.\n",
    "    \n",
    "    ### Arguments\n",
    "    No additional arguments are currently supported.\n",
    "    \"\"\"\n",
    "\n",
    "    def __init__(self, nnodes: int, njobs: int):\n",
    "        self.n_nodes = nnodes\n",
    "        self.n_jobs = njobs\n",
    "        self.config = sysconfig()\n",
    "        self.topology = 'random'\n",
    "        \n",
    "        self.aspace = MultiDiscrete([len(action)] * self.n_nodes)\n",
    "        self.sspace = MultiDiscrete([len(status)*len(load)] * self.n_nodes)\n",
    "        self.state = None\n",
    "        self.count = njobs\n",
    "        \n",
    "    def reward(self, a):\n",
    "        r = torch.sum(self.state.x[:, 1] == load.loaded) * self.config.working \\\n",
    "            + torch.sum(a==action.reboot) * self.config.reboot_penalty \\\n",
    "            + torch.sum(self.state.x[:, 1] == load.success) * self.config.done\n",
    "        return r\n",
    "    \n",
    "    def _step(self, s):\n",
    "        pass\n",
    "    \n",
    "    def ssample():\n",
    "        s = self.sspace.sample()\n",
    "        return Data(x=torch.Tensor(np.stack([s//len(status), s%len(status)]).T).to(torch.int64), edge_index=self.sample_edge_index())\n",
    "    \n",
    "    def asample():\n",
    "        return self.aspace.sample()\n",
    "        \n",
    "    def step(self, a):\n",
    "        err_msg = f\"{a!r} ({type(a)}) is not a valid action.\"\n",
    "        assert self.aspace.contains(a), err_msg\n",
    "        \n",
    "        a = torch.Tensor(a)\n",
    "        self.count = self.count - torch.sum(self.state.x[:, 1] == load.success)\n",
    "        \n",
    "        reward = self.reward(a)\n",
    "        done = self.count == 0\n",
    "        x0 = deepcopy(self.state.x[:, 0])\n",
    "        \n",
    "        self.state.x[:, 0] = torch.where((x0 == status.good) & (torch.rand(self.n_nodes) < self.config.p_fail_base),\n",
    "                                   torch.Tensor([status.faulty]*self.n_nodes).to(torch.int64),\n",
    "                                   self.state.x[:, 0])\n",
    "        \n",
    "        self.state.x[:, 0] = torch.where((x0 == status.faulty) & (torch.rand(self.n_nodes) < self.config.p_dead_base),\n",
    "                                   torch.Tensor([status.dead]*self.n_nodes).to(torch.int64),\n",
    "                                   self.state.x[:, 0])\n",
    "        \n",
    "        self.state.x[:, 0] = torch.where((x0 == status.dead) & (a==action.reboot),\n",
    "                                   torch.Tensor([status.good]*self.n_nodes).to(torch.int64),\n",
    "                                   self.state.x[:, 0])\n",
    "        \n",
    "        x1 = deepcopy(self.state.x[:, 1])\n",
    "        \n",
    "        p = torch.where(x0 == status.good, self.config.p_doneG, self.config.p_doneF)\n",
    "        self.state.x[:, 1] = torch.where((x1 == load.idle) & (torch.rand(self.n_nodes) < self.config.p_load),\n",
    "                                   torch.Tensor([load.loaded]*self.n_nodes).to(torch.int64),\n",
    "                                   self.state.x[:, 1])\n",
    "        \n",
    "        self.state.x[:, 1] = torch.where((x1 == load.loaded) & (torch.rand(self.n_nodes) < p),\n",
    "                                   torch.Tensor([load.success]*self.n_nodes).to(torch.int64),\n",
    "                                   self.state.x[:, 1])      \n",
    "        \n",
    "        self.state.x[:, 1] = torch.where((x1 == load.success) | (self.state.x[:, 0] == status.dead),\n",
    "                                   torch.Tensor([load.idle]*self.n_nodes).to(torch.int64),\n",
    "                                   self.state.x[:, 1])\n",
    "                        \n",
    "        return deepcopy(self.state), deepcopy(reward.item()), deepcopy(done), {}\n",
    "    \n",
    "    def sample_edge_index(self, topology=None):\n",
    "        if topology == None:\n",
    "            topology = self.topology\n",
    "            \n",
    "        if topology == 'random':\n",
    "            return erdos_renyi_graph(self.n_nodes, 0.75, directed=False)\n",
    "        elif topology == 'star':\n",
    "            arr = torch.arange(1, self.n_nodes)\n",
    "            edge_index = torch.stack([arr, torch.zeros(self.n_nodes-1, dtype=torch.int64)])\n",
    "            return torch.hstack([edge_index, edge_index.flip(0)])\n",
    "        elif topology == 'ring':\n",
    "            arr = torch.arange(self.n_nodes)\n",
    "            edge_index = torch.vstack([arr, arr.roll(-1,0)])\n",
    "            return torch.hstack([edge_index, edge_index.flip(0)])\n",
    "            \n",
    "        err_msg = f\"Unknown topology. Choose among 'ring', 'star', or 'random'.\"\n",
    "        assert False, err_msg\n",
    "\n",
    "    def reset(self, seed: Optional[int] = None, topology: str = 'random'):\n",
    "        if not seed == None:\n",
    "            super().reset(seed=seed)\n",
    "        self.topology = topology\n",
    "        edge_index = self.sample_edge_index()\n",
    "        \n",
    "        x = torch.zeros((self.n_nodes, 2), dtype=torch.int64) #torch.randint(high=len(status), size=(3,2))\n",
    "        self.state = Data(x=x, edge_index=edge_index)\n",
    "        self.count = self.n_jobs\n",
    "        \n",
    "        return deepcopy(self.state)\n",
    "\n",
    "    def render(self, s=None):\n",
    "        if not s:\n",
    "            s = self.state\n",
    "        g = torch_geometric.utils.to_networkx(s, to_undirected=True)\n",
    "        colors = np.array(['green', 'yellow', 'red'])\n",
    "        color_map = colors[s.x.numpy()[:, 0]]\n",
    "        labeldict = {i: 'L' if v==load.loaded else ('I' if v==load.idle else 'S')  for i, v in enumerate(s.x[:, 1])}\n",
    "        nx.draw_circular(g, node_color=color_map, labels=labeldict)\n",
    "        \n",
    "    def seed(self, n: int):\n",
    "        super().reset(seed=seed)"
   ]
  },
  {
   "cell_type": "code",
   "execution_count": 3,
   "id": "aee2cc45",
   "metadata": {},
   "outputs": [],
   "source": [
    "def print_sar(s, a, r):\n",
    "    colors = np.array(['G', 'F', 'D'])\n",
    "    print('STATE ', colors[s.numpy()[:, 0]].tolist())\n",
    "    colors = np.array(['I', 'L', 'S'])\n",
    "    print('LOAD  ',colors[s.numpy()[:, 1]].tolist())\n",
    "    colors = np.array(['N', 'R'])\n",
    "    print('ACTIO ', colors[np.array(a)].tolist())\n",
    "    print('R ', r, '\\n')\n",
    "    \n",
    "print_path = lambda p : [print_sar(s.x, a, r) for s, a, r in zip(p['observations'], p['actions'], p['rewards'])]"
   ]
  },
  {
   "cell_type": "code",
   "execution_count": 4,
   "id": "81d4cf11",
   "metadata": {},
   "outputs": [],
   "source": [
    "seed = 1\n",
    "torch.random.manual_seed(seed)\n",
    "np.random.seed(seed)"
   ]
  },
  {
   "cell_type": "code",
   "execution_count": 5,
   "id": "878dae3e",
   "metadata": {},
   "outputs": [
    {
     "data": {
      "image/png": "[encoded data removed]",
      "text/plain": [
       "<Figure size 432x288 with 1 Axes>"
      ]
     },
     "metadata": {},
     "output_type": "display_data"
    }
   ],
   "source": [
    "env = sysAdminProbe(nnodes=6, njobs=60)\n",
    "x = env.reset(topology='star')\n",
    "env.render()"
   ]
  },
  {
   "cell_type": "markdown",
   "id": "851b3cf2",
   "metadata": {},
   "source": [
    "```python\n",
    "a = env.aspace.sample()\n",
    "data, r, _, _ = env.step(a)\n",
    "```"
   ]
  },
  {
   "cell_type": "code",
   "execution_count": 6,
   "id": "707a0a0b",
   "metadata": {},
   "outputs": [],
   "source": [
    "in_channels = len(status)+len(load)\n",
    "out_channels = len(action)"
   ]
  },
  {
   "cell_type": "code",
   "execution_count": 7,
   "id": "4a097d32",
   "metadata": {},
   "outputs": [],
   "source": [
    "device = torch.cuda.current_device() if torch.cuda.is_available() else 'cpu'"
   ]
  },
  {
   "cell_type": "code",
   "execution_count": 8,
   "id": "4411cf29",
   "metadata": {},
   "outputs": [],
   "source": [
    "from collections import OrderedDict\n",
    "\n",
    "from torch.nn import Linear, ReLU\n",
    "import torch.nn.functional as F\n",
    "from torch_geometric.nn import Sequential, GCNConv, SAGEConv\n",
    "\n",
    "class sysAdminModel(nn.Module):\n",
    "    \n",
    "    def __init__(self, c_in, c_out, c_hidden=64, dp_rate_linear=0.5, **kwargs):\n",
    "        \n",
    "        super().__init__()\n",
    "        \n",
    "        self.model = Sequential('x, edge_index', [\n",
    "            (SAGEConv(c_in, c_hidden), 'x, edge_index -> x'),\n",
    "            ReLU(inplace=True),\n",
    "#             (SAGEConv(c_hidden c_hidden), 'x, edge_index -> x'),\n",
    "#             ReLU(inplace=True),\n",
    "            Linear(c_hidden, c_out),\n",
    "        ])\n",
    "\n",
    "        self._device = 'cpu'\n",
    "\n",
    "    def forward(self, x, edge_index):\n",
    "        return self.model(x.to(self._device), edge_index.to(self._device))\n",
    "    \n",
    "    def to(self, device):\n",
    "        super().to(device)\n",
    "        self._device = device"
   ]
  },
  {
   "cell_type": "code",
   "execution_count": 9,
   "id": "b394b7b2",
   "metadata": {},
   "outputs": [],
   "source": [
    "qf = sysAdminModel(in_channels, out_channels, 32)\n",
    "target_qf = sysAdminModel(in_channels, out_channels, 32)"
   ]
  },
  {
   "cell_type": "code",
   "execution_count": 10,
   "id": "e8d8ccf6",
   "metadata": {},
   "outputs": [],
   "source": [
    "from rlkit.policies.base import Policy\n",
    "\n",
    "class sysRolloutPolicy(nn.Module, Policy):\n",
    "    def __init__(self, aspace, eps=0.1):\n",
    "        super().__init__()\n",
    "        self.eps = eps\n",
    "        self.aspace = aspace\n",
    "\n",
    "    def get_action(self, obs):\n",
    "        if rand() < self.eps:\n",
    "            return self.aspace.sample(), {}\n",
    "        return torch.where(obs.x[:, 0]==status.dead, action.reboot, action.noop).cpu().detach().numpy(), {}    \n",
    "\n",
    "class doNothingPolicy(nn.Module, Policy):\n",
    "    def __init__(self, default = action.noop):\n",
    "        super().__init__()\n",
    "        self.default = default\n",
    "\n",
    "    def get_action(self, obs):\n",
    "        return torch.Tensor([self.default]*len(obs.x)).to(torch.int64).cpu().detach().numpy(), {}"
   ]
  },
  {
   "cell_type": "code",
   "execution_count": 11,
   "id": "f5162fdd",
   "metadata": {},
   "outputs": [],
   "source": [
    "qf_criterion = nn.MSELoss()\n",
    "eval_policy = argmaxDiscretePolicy(qf, format_data)\n",
    "# expl_policy = sysRolloutPolicy(env.aspace)\n",
    "expl_policy = epsilonGreedyPolicy(qf, format_data, env.aspace, eps=0.1)"
   ]
  },
  {
   "cell_type": "markdown",
   "id": "256a79d5",
   "metadata": {},
   "source": [
    "```python\n",
    "expl_policy = sysRolloutPolicy(env.aspace)\n",
    "path_collector = MdpPathCollector(env, eval_policy)\n",
    "paths = path_collector.collect_new_paths(10, 40, False)\n",
    "\n",
    "for s, a, r, t in zip(paths[0]['observations'], paths[0]['actions'], \n",
    "                      paths[0]['rewards'], paths[0]['terminals']):\n",
    "    print(s.x)\n",
    "    print(a)\n",
    "    print(r)\n",
    "    print(t)\n",
    "```"
   ]
  },
  {
   "cell_type": "code",
   "execution_count": 14,
   "id": "f1438868",
   "metadata": {},
   "outputs": [
    {
     "name": "stdout",
     "output_type": "stream",
     "text": [
      "Expected reward: 0.5140250001195819\n"
     ]
    }
   ],
   "source": [
    "example_policy = doNothingPolicy()\n",
    "path_collector = MdpPathCollector(env, example_policy)\n",
    "paths = path_collector.collect_new_paths(100, 40, False)\n",
    "expected_default = np.mean([np.mean(p['rewards']) for p in paths])\n",
    "print(\"Expected reward:\", expected_default)"
   ]
  },
  {
   "cell_type": "code",
   "execution_count": 15,
   "id": "f9a61126",
   "metadata": {},
   "outputs": [
    {
     "name": "stdout",
     "output_type": "stream",
     "text": [
      "Expected reward: 1.3333249958101663\n"
     ]
    }
   ],
   "source": [
    "example_policy = sysRolloutPolicy(env.aspace, 0.)\n",
    "path_collector = MdpPathCollector(env, example_policy)\n",
    "paths = path_collector.collect_new_paths(100, 40, False)\n",
    "expected_heuristic = np.mean([np.mean(p['rewards']) for p in paths])\n",
    "print(\"Expected reward:\", expected_heuristic)"
   ]
  },
  {
   "cell_type": "markdown",
   "id": "afbc89a0",
   "metadata": {},
   "source": [
    "print_path(paths[1])"
   ]
  },
  {
   "cell_type": "code",
   "execution_count": 16,
   "id": "530385f2",
   "metadata": {},
   "outputs": [],
   "source": [
    "from torch.optim import Adam"
   ]
  },
  {
   "cell_type": "code",
   "execution_count": 17,
   "id": "3e8a3d7c",
   "metadata": {},
   "outputs": [],
   "source": [
    "expl_path_collector = MdpPathCollector(env, expl_policy)\n",
    "eval_path_collector = MdpPathCollector(env, eval_policy)\n",
    "replay_buffer = anyReplayBuffer(10000)\n",
    "optimizer = Adam(qf.parameters(), lr=5E-3)"
   ]
  },
  {
   "cell_type": "markdown",
   "id": "19b5bea7",
   "metadata": {},
   "source": [
    "#### Reinforcement Learning"
   ]
  },
  {
   "cell_type": "code",
   "execution_count": 18,
   "id": "a8a2ae41",
   "metadata": {},
   "outputs": [],
   "source": [
    "n_epoch = 10\n",
    "n_iter = 20"
   ]
  },
  {
   "cell_type": "code",
   "execution_count": 19,
   "id": "ab2fa875",
   "metadata": {},
   "outputs": [
    {
     "data": {
      "text/plain": [
       "sysAdminModel(\n",
       "  (model): Sequential(\n",
       "    (0): SAGEConv(6, 32)\n",
       "    (1): ReLU(inplace=True)\n",
       "    (2): Linear(in_features=32, out_features=2, bias=True)\n",
       "  )\n",
       ")"
      ]
     },
     "execution_count": 19,
     "metadata": {},
     "output_type": "execute_result"
    }
   ],
   "source": [
    "qf"
   ]
  },
  {
   "cell_type": "code",
   "execution_count": 20,
   "id": "6b85af70",
   "metadata": {},
   "outputs": [
    {
     "name": "stdout",
     "output_type": "stream",
     "text": [
      "iter  1  -> loss:  1.489285910129547 , rewards: (train)  -1.3265625 , (test)  -1.4820750109553336\n",
      "iter  2  -> loss:  0.9911220252513886 , rewards: (train)  0.6910546749830246 , (test)  0.49630000002309693\n",
      "iter  3  -> loss:  0.8417130768299103 , rewards: (train)  0.6947265505790711 , (test)  0.5105999995712192\n",
      "iter  4  -> loss:  0.7272816210985183 , rewards: (train)  0.6650390684604645 , (test)  0.5108500004578381\n",
      "iter  5  -> loss:  0.6774896055459976 , rewards: (train)  0.7220312595367432 , (test)  0.5349500002432614\n",
      "iter  6  -> loss:  0.753846037387848 , rewards: (train)  0.7657812476158142 , (test)  0.8054750011730941\n",
      "iter  7  -> loss:  0.9709301978349686 , rewards: (train)  0.9698437333106995 , (test)  1.0836749982293694\n",
      "iter  8  -> loss:  0.9737709522247314 , rewards: (train)  1.1238281399011611 , (test)  1.2759249956831338\n",
      "iter  9  -> loss:  0.9624766796827317 , rewards: (train)  1.1485546767711639 , (test)  1.300749995458871\n",
      "iter  10  -> loss:  0.9294957995414734 , rewards: (train)  1.1686328113079072 , (test)  1.307549995543435\n"
     ]
    }
   ],
   "source": [
    "loss = []\n",
    "avg_r_train = []\n",
    "avg_r_test = []\n",
    "\n",
    "for i in range(n_epoch):\n",
    "    qf.train(False)\n",
    "    paths = eval_path_collector.collect_new_paths(100, 40, False)\n",
    "    avg_r_test.append(np.mean([np.mean(p['rewards']) for p in paths]))\n",
    "    \n",
    "    paths = expl_path_collector.collect_new_paths(250, 40, False)\n",
    "    replay_buffer.add_paths(paths)\n",
    "    \n",
    "    qf.train(True)\n",
    "    \n",
    "    for _ in range(n_iter):\n",
    "        batch = replay_buffer.random_batch(128)\n",
    "        rewards = torch.Tensor(batch['rewards']).unsqueeze(-1)\n",
    "        terminals = torch.Tensor(batch['terminals'])\n",
    "        actions = torch.Tensor(batch['actions'])\n",
    "\n",
    "        obs = batch['observations']\n",
    "        next_obs = batch['next_observations']\n",
    "        \n",
    "        ff = lambda x: target_qf(*x)\n",
    "        out = torch.stack(list(map(ff, map(format_data, next_obs))), axis=0).cpu()\n",
    "        \n",
    "        target_q_values = out.max(-1).values\n",
    "        y_target = rewards + (1. - terminals) * 0.95 * target_q_values\n",
    "\n",
    "        ff = lambda x: qf(*x)\n",
    "        out = torch.stack(list(map(ff, map(format_data, obs))), axis=0).cpu()\n",
    "                               \n",
    "        actions_one_hot = F.one_hot(actions.to(torch.int64))\n",
    "        y_pred = torch.sum(out * actions_one_hot, dim=-1)#.sum(1, keepdim=True)\n",
    "        qf_loss = qf_criterion(y_pred, y_target)\n",
    "        \n",
    "        loss.append(qf_loss.item())\n",
    "        avg_r_train.append(rewards.mean().item())\n",
    "        \n",
    "        optimizer.zero_grad()\n",
    "        qf_loss.backward()\n",
    "        optimizer.step()\n",
    "        \n",
    "#     pdb.set_trace()\n",
    "#     print(qf.state_dict().items())\n",
    "#     print(qf.state_dict()['model.module_0.lin_l.weight'] - target_qf.state_dict()['model.module_0.lin_l.weight'])\n",
    "    target_qf.load_state_dict(deepcopy(qf.state_dict()))\n",
    "    print(\"iter \", i+1, \" -> loss: \", np.mean(loss[-n_iter:]),\n",
    "          \", rewards: (train) \", np.mean(avg_r_train[-n_iter:]),\n",
    "          \", (test) \", avg_r_test[-1])"
   ]
  },
  {
   "cell_type": "markdown",
   "id": "c31e96da",
   "metadata": {},
   "source": [
    "#### plot"
   ]
  },
  {
   "cell_type": "code",
   "execution_count": 21,
   "id": "b0ae3d01",
   "metadata": {},
   "outputs": [],
   "source": [
    "import matplotlib.pyplot as plt"
   ]
  },
  {
   "cell_type": "code",
   "execution_count": 26,
   "id": "a8aee383",
   "metadata": {},
   "outputs": [
    {
     "data": {
      "image/png": "[encoded data removed]",
      "text/plain": [
       "<Figure size 432x288 with 1 Axes>"
      ]
     },
     "metadata": {
      "needs_background": "light"
     },
     "output_type": "display_data"
    }
   ],
   "source": [
    "plt.plot(np.arange(n_iter*n_epoch), [expected_default]*(n_iter*n_epoch), label = \"do nothing\", color='lightgray')\n",
    "plt.plot(np.arange(n_iter*n_epoch), [expected_heuristic]*(n_iter*n_epoch), label = \"reboot when dead\",  color='darkgray')\n",
    "\n",
    "plt.plot(np.arange(n_iter*n_epoch), avg_r_train, label = \"avg R (train)\")\n",
    "plt.plot(np.arange(n_iter, n_iter*n_epoch+1, step=n_iter), avg_r_test, label = \"avg R (test)\")\n",
    "plt.legend()\n",
    "# plt.legend(bbox_to_anchor=(1.05, 1.0), loc='upper left')\n",
    "\n",
    "plt.savefig('training_log.png', dpi=300)"
   ]
  },
  {
   "cell_type": "markdown",
   "id": "d9b36e5f",
   "metadata": {},
   "source": [
    "#### record example trajectory"
   ]
  },
  {
   "cell_type": "code",
   "execution_count": null,
   "id": "e92a62e9",
   "metadata": {},
   "outputs": [],
   "source": [
    "import numpy as np\n",
    "import networkx as nx\n",
    "import matplotlib.pyplot as plt\n",
    "from matplotlib import animation\n",
    "from matplotlib.animation import FuncAnimation, PillowWriter \n",
    "\n",
    "def simple_update(num, obs, ax, colors=np.array(['green', 'yellow', 'red']), labels=np.array(['I', 'L', 'S'])):\n",
    "    ax.clear()\n",
    "    \n",
    "    s = obs[num]\n",
    "    g = torch_geometric.utils.to_networkx(s, to_undirected=True)\n",
    "    color_map = colors[s.x.numpy()[:, 0]]\n",
    "    label_map = labels[s.x.numpy()[:, 1]]    \n",
    "    nx.draw_circular(g, \n",
    "                     node_color=color_map,\n",
    "                     labels={i: l for i, l in enumerate(label_map)}, \n",
    "                     ax=ax)\n",
    "    \n",
    "    ax.set_title(\"Frame {}\".format(num))\n",
    "\n",
    "def simple_animation(obs, name='animation_1'):\n",
    "    fig, ax = plt.subplots(figsize=(6,4))\n",
    "    \n",
    "    ani = animation.FuncAnimation(fig, simple_update, frames=len(obs), fargs=(obs, ax))\n",
    "    ani.save(name+'.gif', writer='imagemagick', savefig_kwargs={'facecolor':'white'}, fps=1)\n",
    "\n",
    "    plt.show()\n",
    "    \n",
    "simple_animation(paths[0]['observations'])"
   ]
  },
  {
   "cell_type": "markdown",
   "id": "9ff8f6a4",
   "metadata": {},
   "source": [
    "### Notes\n",
    "1. Instead of a GCN use a normal GNN - SAGEGraph\n",
    "2. add self loops - default on GCNs\n",
    "3. try over fitting a linear layer - done"
   ]
  },
  {
   "cell_type": "code",
   "execution_count": null,
   "id": "72585a47",
   "metadata": {},
   "outputs": [],
   "source": []
  },
  {
   "cell_type": "code",
   "execution_count": null,
   "id": "2a125456",
   "metadata": {},
   "outputs": [],
   "source": []
  }
 ],
 "metadata": {
  "kernelspec": {
   "display_name": "Python [conda env:rlpyt] *",
   "language": "python",
   "name": "conda-env-rlpyt-py"
  },
  "language_info": {
   "codemirror_mode": {
    "name": "ipython",
    "version": 3
   },
   "file_extension": ".py",
   "mimetype": "text/x-python",
   "name": "python",
   "nbconvert_exporter": "python",
   "pygments_lexer": "ipython3",
   "version": "3.7.11"
  }
 },
 "nbformat": 4,
 "nbformat_minor": 5
}
