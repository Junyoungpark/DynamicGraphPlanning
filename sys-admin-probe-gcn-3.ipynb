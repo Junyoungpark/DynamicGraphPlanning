{
 "cells": [
  {
   "cell_type": "code",
   "execution_count": 1,
   "id": "e681a4d5",
   "metadata": {},
   "outputs": [],
   "source": [
    "import numpy as np\n",
    "import pdb\n",
    "import torch\n",
    "import torch.nn as nn\n",
    "from torch_geometric.data import Data\n",
    "\n",
    "# from env.sys_admin import *\n",
    "# from gnn_model import GraphGNNModel\n",
    "\n",
    "import sys\n",
    "sys.path.append('/home/victorialena/rlkit')\n",
    "\n",
    "import rlkit\n",
    "# from rlkit.samplers.data_collector import MdpPathCollector\n",
    "from path_collector import MdpPathCollector\n",
    "# from rlkit.torch.dqn.dqn import DQNTrainer\n",
    "# from rlkit.torch.torch_rl_algorithm import TorchBatchRLAlgorithm\n",
    "\n",
    "from any_replay_buffer import anyReplayBuffer\n",
    "# from dqn import DQNTrainer\n",
    "from policies import *"
   ]
  },
  {
   "cell_type": "code",
   "execution_count": 2,
   "id": "58211063",
   "metadata": {},
   "outputs": [],
   "source": [
    "import numpy as np\n",
    "from numpy.random import randint, choice, rand\n",
    "import networkx as nx\n",
    "\n",
    "import gym\n",
    "from gym.spaces import MultiDiscrete\n",
    "\n",
    "import torch\n",
    "import torch.nn.functional as F\n",
    "import torch_geometric\n",
    "from torch_geometric.data import Data\n",
    "from torch_geometric.utils.random import erdos_renyi_graph\n",
    "from torch_geometric.utils import to_dense_adj, to_networkx\n",
    "\n",
    "from collections import namedtuple\n",
    "from copy import copy, deepcopy\n",
    "from typing import Optional\n",
    "from enum import Enum, IntEnum\n",
    "\n",
    "import pdb\n",
    "\n",
    "class status(IntEnum):\n",
    "    good=0\n",
    "    faulty=1\n",
    "    dead=2\n",
    "    \n",
    "class load(IntEnum):\n",
    "    idle=0\n",
    "    loaded=1\n",
    "    success=2\n",
    "    \n",
    "class action(IntEnum): \n",
    "    noop=0 \n",
    "    reboot=1\n",
    "    \n",
    "sysconfig = namedtuple(\"sysconfig\", \n",
    "                       ['p_fail_base', 'p_fail_bonus', 'p_dead_base', 'p_dead_bonus',\n",
    "                        'p_load', 'p_doneG', 'p_doneF',\n",
    "                        'discount', 'reboot_penalty', 'working', 'done'], \n",
    "                       defaults=[.25,.2,.1,.5,\n",
    "                                 .6,.9,.6,\n",
    "                                 .9, -.5, .1, 1.])\n",
    "\n",
    "format_input = lambda x: F.one_hot(x, num_classes=len(status)).reshape(-1,len(status)+len(load)).to(torch.float32)\n",
    "\n",
    "format_data = lambda x: (format_input(x.x), x.edge_index)\n",
    "\n",
    "format_data_input = lambda x: format_input(x.x)\n",
    "\n",
    "class sysAdminProbe(gym.Env):\n",
    "    \"\"\"\n",
    "    ### Description\n",
    "    \n",
    "    ### Action Space\n",
    "    Each community within the graph has governance of given nodes, an action notes the measure each \n",
    "    community is taking at any given time during simulation.\n",
    "    \n",
    "    ### State Space\n",
    "    The state is defined as an arbitrary input graph where each node has an associate SEIR state. The \n",
    "    edge weights reflect transmission probabilities if either node is infectious.\n",
    "    \n",
    "    ### Rewards\n",
    "    The reward model is defined as the sum of cost associated with each measure weighted by the size\n",
    "    of the affected community.\n",
    "    \n",
    "    ### Starting State\n",
    "    Randomly initilized stochastic Blockmodelgraph with predefined number of nodes and communities.\n",
    "    \n",
    "    ### Episode Termination\n",
    "    The simulation terminates when no node is infectious anymore. At this point the the desease can\n",
    "    no longer spread.\n",
    "    \n",
    "    ### Arguments\n",
    "    No additional arguments are currently supported.\n",
    "    \"\"\"\n",
    "\n",
    "    def __init__(self, nnodes: int, njobs: int):\n",
    "        self.n_nodes = nnodes\n",
    "        self.n_jobs = njobs\n",
    "        self.config = sysconfig()\n",
    "        self.topology = 'random'\n",
    "        \n",
    "        self.aspace = MultiDiscrete([len(action)] * self.n_nodes)\n",
    "        self.sspace = MultiDiscrete([len(status)+len(load)] * self.n_nodes)\n",
    "        self.state = None\n",
    "        self.count = njobs\n",
    "        \n",
    "    def reward(self, a):\n",
    "        r = torch.sum(self.state.x[:, 1] == load.loaded) * self.config.working \\\n",
    "            + torch.sum(a==action.reboot) * self.config.reboot_penalty \\\n",
    "            + torch.sum(self.state.x[:, 1] == load.success) * self.config.done        \n",
    "#             - torch.sum(self.state.x[:,0] == status.dead) * self.config.working \\\n",
    "        return r\n",
    "    \n",
    "    def _step(self, s):\n",
    "        pass\n",
    "                    \n",
    "    def step(self, a):\n",
    "        err_msg = f\"{a!r} ({type(a)}) is not a valid action.\"\n",
    "        assert self.aspace.contains(a), err_msg\n",
    "        \n",
    "        a = torch.Tensor(a)\n",
    "        self.count = self.count - torch.sum(self.state.x[:, 1] == load.success)\n",
    "        \n",
    "        reward = self.reward(a)\n",
    "        done = self.count == 0\n",
    "        x0 = deepcopy(self.state.x[:, 0])\n",
    "        \n",
    "        self.state.x[:, 0] = torch.where((x0 == status.good) & (torch.rand(self.n_nodes) < self.config.p_fail_base),\n",
    "                                   torch.Tensor([status.faulty]*self.n_nodes).to(torch.int64),\n",
    "                                   self.state.x[:, 0])\n",
    "        \n",
    "        self.state.x[:, 0] = torch.where((x0 == status.faulty) & (torch.rand(self.n_nodes) < self.config.p_dead_base),\n",
    "                                   torch.Tensor([status.dead]*self.n_nodes).to(torch.int64),\n",
    "                                   self.state.x[:, 0])\n",
    "        \n",
    "        self.state.x[:, 0] = torch.where((x0 == status.dead) & (a==action.reboot),\n",
    "                                   torch.Tensor([status.good]*self.n_nodes).to(torch.int64),\n",
    "                                   self.state.x[:, 0])\n",
    "        \n",
    "        x1 = deepcopy(self.state.x[:, 1])\n",
    "        \n",
    "        p = torch.where(x0 == status.good, self.config.p_doneG, self.config.p_doneF)\n",
    "        self.state.x[:, 1] = torch.where((x1 == load.idle) & (torch.rand(self.n_nodes) < self.config.p_load),\n",
    "                                   torch.Tensor([load.loaded]*self.n_nodes).to(torch.int64),\n",
    "                                   self.state.x[:, 1])\n",
    "        \n",
    "        self.state.x[:, 1] = torch.where((x1 == load.loaded) & (torch.rand(self.n_nodes) < p),\n",
    "                                   torch.Tensor([load.success]*self.n_nodes).to(torch.int64),\n",
    "                                   self.state.x[:, 1])      \n",
    "        \n",
    "        self.state.x[:, 1] = torch.where((x1 == load.success) | (self.state.x[:, 0] == status.dead),\n",
    "                                   torch.Tensor([load.idle]*self.n_nodes).to(torch.int64),\n",
    "                                   self.state.x[:, 1])\n",
    "                        \n",
    "        return deepcopy(self.state), deepcopy(reward.item()), deepcopy(done), {}\n",
    "\n",
    "    def reset(self, seed: Optional[int] = None, topology: str = 'random'):\n",
    "        if not seed == None:\n",
    "            super().reset(seed=seed)\n",
    "        self.topology = topology\n",
    "        \n",
    "        if self.topology == 'random':\n",
    "            edge_index = erdos_renyi_graph(self.n_nodes, 0.75, directed=False)\n",
    "        elif self.topology == 'star':\n",
    "            arr = torch.arange(1, self.n_nodes)\n",
    "            edge_index = torch.stack([arr, torch.zeros(self.n_nodes-1, dtype=torch.int64)])\n",
    "            edge_index = torch.hstack([edge_index, edge_index.flip(0)])\n",
    "        elif self.topology == 'ring':\n",
    "            arr = torch.arange(self.n_nodes)\n",
    "            edge_index = torch.vstack([arr, arr.roll(-1,0)])\n",
    "            edge_index = torch.hstack([edge_index, edge_index.flip(0)])\n",
    "        else:\n",
    "            err_msg = f\"Unknown topology. Choose among 'ring', 'star', or 'random'.\"\n",
    "            assert False, err_msg\n",
    "            \n",
    "        x = torch.zeros((self.n_nodes, 2), dtype=torch.int64) #torch.randint(high=len(status), size=(3,2))\n",
    "        self.state = Data(x=x, edge_index=edge_index)\n",
    "        self.count = self.n_jobs\n",
    "        \n",
    "        return deepcopy(self.state)\n",
    "\n",
    "    def render(self):\n",
    "        pass\n",
    "        g = torch_geometric.utils.to_networkx(self.state, to_undirected=True)\n",
    "        colors = np.array(['green', 'blue', 'red'])\n",
    "        color_map = colors[self.state.x.numpy()[:, 0]]\n",
    "        labeldict = {i: 'L' if v==load.loaded else ('I' if v==load.idle else 'S')  for i, v in enumerate(self.state.x[:, 1])}\n",
    "        nx.draw(g, node_color=color_map, labels=labeldict)\n",
    "        \n",
    "    def seed(self, n: int):\n",
    "        super().reset(seed=seed)"
   ]
  },
  {
   "cell_type": "code",
   "execution_count": 3,
   "id": "65728758",
   "metadata": {},
   "outputs": [],
   "source": [
    "def print_sar(s, a, r):\n",
    "    colors = np.array(['G', 'F', 'D'])\n",
    "    print('STATE ', colors[s.numpy()[:, 0]].tolist())\n",
    "    colors = np.array(['I', 'L', 'S'])\n",
    "    print('LOAD  ',colors[s.numpy()[:, 1]].tolist())\n",
    "    colors = np.array(['N', 'R'])\n",
    "    print('ACTIO ', colors[np.array(a)].tolist())\n",
    "    print('R ', r, '\\n')\n",
    "    \n",
    "print_path = lambda p : [print_sar(s.x, a, r) for s, a, r in zip(p['observations'], p['actions'], p['rewards'])]"
   ]
  },
  {
   "cell_type": "code",
   "execution_count": 4,
   "id": "fe4a2963",
   "metadata": {},
   "outputs": [],
   "source": [
    "seed = 1\n",
    "torch.random.manual_seed(seed)\n",
    "np.random.seed(seed)"
   ]
  },
  {
   "cell_type": "code",
   "execution_count": 5,
   "id": "53373e88",
   "metadata": {},
   "outputs": [
    {
     "data": {
      "image/png": "[encoded data removed]",
      "text/plain": [
       "<Figure size 432x288 with 1 Axes>"
      ]
     },
     "metadata": {},
     "output_type": "display_data"
    }
   ],
   "source": [
    "env = sysAdminProbe(nnodes=2, njobs=10)\n",
    "x = env.reset(topology='star')\n",
    "env.render()"
   ]
  },
  {
   "cell_type": "markdown",
   "id": "5b2f114b",
   "metadata": {},
   "source": [
    "```python\n",
    "a = env.aspace.sample()\n",
    "data, r, _, _ = env.step(a)\n",
    "```"
   ]
  },
  {
   "cell_type": "code",
   "execution_count": 6,
   "id": "9a840ac2",
   "metadata": {},
   "outputs": [],
   "source": [
    "in_channels = len(status)+len(load)\n",
    "out_channels = len(action)"
   ]
  },
  {
   "cell_type": "code",
   "execution_count": 7,
   "id": "d633ab90",
   "metadata": {},
   "outputs": [],
   "source": [
    "device = torch.cuda.current_device() if torch.cuda.is_available() else 'cpu'"
   ]
  },
  {
   "cell_type": "code",
   "execution_count": 8,
   "id": "faf5946d",
   "metadata": {},
   "outputs": [],
   "source": [
    "from collections import OrderedDict\n",
    "\n",
    "from torch.nn import Linear, ReLU\n",
    "import torch.nn.functional as F\n",
    "from torch_geometric.nn import Sequential, GCNConv, SAGEConv\n",
    "\n",
    "class sysAdminModel(nn.Module):\n",
    "    \n",
    "    def __init__(self, c_in, c_out, c_hidden=64, dp_rate_linear=0.5, **kwargs):\n",
    "        \n",
    "        super().__init__()\n",
    "        \n",
    "        self.model = Sequential('x, edge_index', [\n",
    "            (SAGEConv(c_in, c_hidden), 'x, edge_index -> x'),\n",
    "            ReLU(inplace=True),\n",
    "#             (SAGEConv(c_hidden c_hidden), 'x, edge_index -> x'),\n",
    "#             ReLU(inplace=True),\n",
    "            Linear(c_hidden, c_out),\n",
    "        ])\n",
    "\n",
    "        self._device = 'cpu'\n",
    "\n",
    "    def forward(self, x, edge_index):\n",
    "        return self.model(x.to(self._device), edge_index.to(self._device))\n",
    "    \n",
    "    def to(self, device):\n",
    "        super().to(device)\n",
    "        self._device = device"
   ]
  },
  {
   "cell_type": "code",
   "execution_count": 9,
   "id": "d1bc7596",
   "metadata": {},
   "outputs": [],
   "source": [
    "qf = sysAdminModel(in_channels, out_channels, 32)\n",
    "target_qf = sysAdminModel(in_channels, out_channels, 32)"
   ]
  },
  {
   "cell_type": "code",
   "execution_count": 10,
   "id": "27b5c9ea",
   "metadata": {},
   "outputs": [],
   "source": [
    "from rlkit.policies.base import Policy\n",
    "\n",
    "class sysRolloutPolicy(nn.Module, Policy):\n",
    "    def __init__(self, aspace, eps=0.1):\n",
    "        super().__init__()\n",
    "        self.eps = eps\n",
    "        self.aspace = aspace\n",
    "\n",
    "    def get_action(self, obs):\n",
    "        if rand() < self.eps:\n",
    "            return self.aspace.sample(), {}\n",
    "        return torch.where(obs.x[:, 0]==status.dead, action.reboot, action.noop).cpu().detach().numpy(), {}    \n",
    "\n",
    "class doNothingPolicy(nn.Module, Policy):\n",
    "    def __init__(self, default = action.noop):\n",
    "        super().__init__()\n",
    "        self.default = default\n",
    "\n",
    "    def get_action(self, obs):\n",
    "        return torch.Tensor([self.default]*len(obs)).to(torch.int64).cpu().detach().numpy(), {}"
   ]
  },
  {
   "cell_type": "code",
   "execution_count": 11,
   "id": "47e84bd7",
   "metadata": {},
   "outputs": [],
   "source": [
    "qf_criterion = nn.MSELoss()\n",
    "eval_policy = argmaxDiscretePolicy(qf, format_data)\n",
    "# expl_policy = sysRolloutPolicy(env.aspace)\n",
    "expl_policy = epsilonGreedyPolicy(qf, format_data, env.aspace, eps=0.1)"
   ]
  },
  {
   "cell_type": "markdown",
   "id": "d4befa58",
   "metadata": {},
   "source": [
    "```python\n",
    "expl_policy = sysRolloutPolicy(env.aspace)\n",
    "path_collector = MdpPathCollector(env, eval_policy)\n",
    "paths = path_collector.collect_new_paths(10, 40, False)\n",
    "\n",
    "for s, a, r, t in zip(paths[0]['observations'], paths[0]['actions'], \n",
    "                      paths[0]['rewards'], paths[0]['terminals']):\n",
    "    print(s.x)\n",
    "    print(a)\n",
    "    print(r)\n",
    "    print(t)\n",
    "```"
   ]
  },
  {
   "cell_type": "code",
   "execution_count": 12,
   "id": "32a76fc6",
   "metadata": {},
   "outputs": [
    {
     "name": "stdout",
     "output_type": "stream",
     "text": [
      "Expected reward: 0.19466878204269505\n"
     ]
    }
   ],
   "source": [
    "example_policy = doNothingPolicy()\n",
    "path_collector = MdpPathCollector(env, example_policy)\n",
    "paths = path_collector.collect_new_paths(100, 40, False)\n",
    "print(\"Expected reward:\", np.mean([np.mean(p['rewards']) for p in paths]))"
   ]
  },
  {
   "cell_type": "code",
   "execution_count": 13,
   "id": "50d6cb11",
   "metadata": {},
   "outputs": [
    {
     "name": "stdout",
     "output_type": "stream",
     "text": [
      "Expected reward: 0.4542358531845136\n"
     ]
    }
   ],
   "source": [
    "example_policy = sysRolloutPolicy(env.aspace, 0.)\n",
    "path_collector = MdpPathCollector(env, example_policy)\n",
    "paths = path_collector.collect_new_paths(100, 40, False)\n",
    "print(\"Expected reward:\", np.mean([np.mean(p['rewards']) for p in paths]))"
   ]
  },
  {
   "cell_type": "markdown",
   "id": "93b0fa0a",
   "metadata": {},
   "source": [
    "print_path(paths[1])"
   ]
  },
  {
   "cell_type": "code",
   "execution_count": 14,
   "id": "a9df3c73",
   "metadata": {},
   "outputs": [],
   "source": [
    "from torch.optim import Adam"
   ]
  },
  {
   "cell_type": "code",
   "execution_count": 15,
   "id": "a7b1be83",
   "metadata": {},
   "outputs": [],
   "source": [
    "expl_path_collector = MdpPathCollector(env, expl_policy)\n",
    "eval_path_collector = MdpPathCollector(env, eval_policy)\n",
    "replay_buffer = anyReplayBuffer(10000)\n",
    "optimizer = Adam(qf.parameters(), lr=5E-3)"
   ]
  },
  {
   "cell_type": "markdown",
   "id": "6f969fde",
   "metadata": {},
   "source": [
    "#### Reinforcement Learning"
   ]
  },
  {
   "cell_type": "code",
   "execution_count": 16,
   "id": "271cdd66",
   "metadata": {},
   "outputs": [],
   "source": [
    "n_epoch = 10\n",
    "n_iter = 20"
   ]
  },
  {
   "cell_type": "code",
   "execution_count": 17,
   "id": "ba35145e",
   "metadata": {},
   "outputs": [
    {
     "data": {
      "text/plain": [
       "sysAdminModel(\n",
       "  (model): Sequential(\n",
       "    (0): SAGEConv(6, 32)\n",
       "    (1): ReLU(inplace=True)\n",
       "    (2): Linear(in_features=32, out_features=2, bias=True)\n",
       "  )\n",
       ")"
      ]
     },
     "execution_count": 17,
     "metadata": {},
     "output_type": "execute_result"
    }
   ],
   "source": [
    "qf"
   ]
  },
  {
   "cell_type": "code",
   "execution_count": 18,
   "id": "9e46de11",
   "metadata": {},
   "outputs": [
    {
     "name": "stdout",
     "output_type": "stream",
     "text": [
      "iter  1  -> loss:  0.24126727730035782 , rewards: (train)  -0.437890625 , (test)  -0.47285260889872044\n",
      "iter  2  -> loss:  0.10740470364689828 , rewards: (train)  0.12058593854308128 , (test)  0.15657086198731773\n",
      "iter  3  -> loss:  0.09649321511387825 , rewards: (train)  0.23691406324505807 , (test)  0.19397346058014264\n",
      "iter  4  -> loss:  0.12965667583048343 , rewards: (train)  0.23289062604308128 , (test)  0.19588553270337505\n",
      "iter  5  -> loss:  0.18631571792066098 , rewards: (train)  0.30117187798023226 , (test)  0.38667620033092215\n",
      "iter  6  -> loss:  0.20202127769589423 , rewards: (train)  0.3650000005960464 , (test)  0.39266272279015246\n",
      "iter  7  -> loss:  0.20531155914068222 , rewards: (train)  0.36335937678813934 , (test)  0.4363538969739922\n",
      "iter  8  -> loss:  0.22499346509575843 , rewards: (train)  0.3901171788573265 , (test)  0.4496283735568424\n",
      "iter  9  -> loss:  0.26296680569648745 , rewards: (train)  0.39503906667232513 , (test)  0.4595098341514267\n",
      "iter  10  -> loss:  0.27310149893164637 , rewards: (train)  0.40312500298023224 , (test)  0.44950431431636856\n"
     ]
    }
   ],
   "source": [
    "loss = []\n",
    "avg_r_train = []\n",
    "avg_r_test = []\n",
    "\n",
    "for i in range(n_epoch):\n",
    "    qf.train(False)\n",
    "    paths = eval_path_collector.collect_new_paths(100, 40, False)\n",
    "    avg_r_test.append(np.mean([np.mean(p['rewards']) for p in paths]))\n",
    "    \n",
    "    paths = expl_path_collector.collect_new_paths(250, 40, False)\n",
    "    replay_buffer.add_paths(paths)\n",
    "    \n",
    "    qf.train(True)\n",
    "    \n",
    "    for _ in range(n_iter):\n",
    "        batch = replay_buffer.random_batch(128)\n",
    "        rewards = torch.Tensor(batch['rewards']).unsqueeze(-1)\n",
    "        terminals = torch.Tensor(batch['terminals'])\n",
    "        actions = torch.Tensor(batch['actions'])\n",
    "\n",
    "        obs = batch['observations']\n",
    "        next_obs = batch['next_observations']\n",
    "        \n",
    "        ff = lambda x: target_qf(*x)\n",
    "        out = torch.stack(list(map(ff, map(format_data, next_obs))), axis=0).cpu()\n",
    "        \n",
    "        target_q_values = out.max(-1).values\n",
    "        y_target = rewards + (1. - terminals) * 0.95 * target_q_values\n",
    "\n",
    "        ff = lambda x: qf(*x)\n",
    "        out = torch.stack(list(map(ff, map(format_data, obs))), axis=0).cpu()\n",
    "                               \n",
    "        actions_one_hot = F.one_hot(actions.to(torch.int64))\n",
    "        y_pred = torch.sum(out * actions_one_hot, dim=-1)#.sum(1, keepdim=True)\n",
    "        qf_loss = qf_criterion(y_pred, y_target)\n",
    "        \n",
    "        loss.append(qf_loss.item())\n",
    "        avg_r_train.append(rewards.mean().item())\n",
    "        \n",
    "        optimizer.zero_grad()\n",
    "        qf_loss.backward()\n",
    "        optimizer.step()\n",
    "        \n",
    "#     pdb.set_trace()\n",
    "#     print(qf.state_dict().items())\n",
    "#     print(qf.state_dict()['model.module_0.lin_l.weight'] - target_qf.state_dict()['model.module_0.lin_l.weight'])\n",
    "    target_qf.load_state_dict(deepcopy(qf.state_dict()))\n",
    "    print(\"iter \", i+1, \" -> loss: \", np.mean(loss[-n_iter:]),\n",
    "          \", rewards: (train) \", np.mean(avg_r_train[-n_iter:]),\n",
    "          \", (test) \", avg_r_test[-1])"
   ]
  },
  {
   "cell_type": "markdown",
   "id": "cd67583c",
   "metadata": {},
   "source": [
    "#### plot"
   ]
  },
  {
   "cell_type": "code",
   "execution_count": 19,
   "id": "afa840e4",
   "metadata": {},
   "outputs": [],
   "source": [
    "import matplotlib.pyplot as plt"
   ]
  },
  {
   "cell_type": "code",
   "execution_count": 20,
   "id": "93bdf147",
   "metadata": {},
   "outputs": [
    {
     "data": {
      "text/plain": [
       "<matplotlib.legend.Legend at 0x7f39f5328150>"
      ]
     },
     "execution_count": 20,
     "metadata": {},
     "output_type": "execute_result"
    },
    {
     "data": {
      "image/png": "[encoded data removed]",
      "text/plain": [
       "<Figure size 432x288 with 1 Axes>"
      ]
     },
     "metadata": {
      "needs_background": "light"
     },
     "output_type": "display_data"
    }
   ],
   "source": [
    "plt.plot(np.arange(n_iter*n_epoch), avg_r_train, label = \"avg R (train)\")\n",
    "plt.plot(np.arange(n_iter*n_epoch, step=n_iter), avg_r_test, label = \"avg R (test)\")\n",
    "plt.legend()"
   ]
  },
  {
   "cell_type": "markdown",
   "id": "97577522",
   "metadata": {},
   "source": [
    "#### extract policy"
   ]
  },
  {
   "cell_type": "code",
   "execution_count": 21,
   "id": "1be118ed",
   "metadata": {},
   "outputs": [
    {
     "data": {
      "text/plain": [
       "sysAdminModel(\n",
       "  (model): Sequential(\n",
       "    (0): SAGEConv(6, 32)\n",
       "    (1): ReLU(inplace=True)\n",
       "    (2): Linear(in_features=32, out_features=2, bias=True)\n",
       "  )\n",
       ")"
      ]
     },
     "execution_count": 21,
     "metadata": {},
     "output_type": "execute_result"
    }
   ],
   "source": [
    "from itertools import combinations, combinations_with_replacement\n",
    "qf.train(False);"
   ]
  },
  {
   "cell_type": "code",
   "execution_count": 27,
   "id": "5ef6f62e",
   "metadata": {},
   "outputs": [
    {
     "data": {
      "text/plain": [
       "[(<status.good: 0>, <status.good: 0>),\n",
       " (<status.good: 0>, <status.faulty: 1>),\n",
       " (<status.good: 0>, <status.dead: 2>),\n",
       " (<status.faulty: 1>, <status.faulty: 1>),\n",
       " (<status.faulty: 1>, <status.dead: 2>),\n",
       " (<status.dead: 2>, <status.dead: 2>)]"
      ]
     },
     "execution_count": 27,
     "metadata": {},
     "output_type": "execute_result"
    }
   ],
   "source": [
    "list(combinations_with_replacement(list(status), env.n_nodes))"
   ]
  },
  {
   "cell_type": "markdown",
   "id": "74d29b58",
   "metadata": {},
   "source": [
    "Avg reward plot makes a lot of sense since the exploration strategy has epsilon greedy with eps=0.2."
   ]
  },
  {
   "cell_type": "markdown",
   "id": "ee538a64",
   "metadata": {},
   "source": [
    "### Notes\n",
    "1. Instead of a GCN use a normal GNN - SAGEGraph\n",
    "2. add self loops - default on GCNs\n",
    "3. try over fitting a linear layer - done"
   ]
  },
  {
   "cell_type": "code",
   "execution_count": null,
   "id": "2838510d",
   "metadata": {},
   "outputs": [],
   "source": []
  }
 ],
 "metadata": {
  "kernelspec": {
   "display_name": "Python [conda env:rlpyt] *",
   "language": "python",
   "name": "conda-env-rlpyt-py"
  },
  "language_info": {
   "codemirror_mode": {
    "name": "ipython",
    "version": 3
   },
   "file_extension": ".py",
   "mimetype": "text/x-python",
   "name": "python",
   "nbconvert_exporter": "python",
   "pygments_lexer": "ipython3",
   "version": "3.7.11"
  }
 },
 "nbformat": 4,
 "nbformat_minor": 5
}
