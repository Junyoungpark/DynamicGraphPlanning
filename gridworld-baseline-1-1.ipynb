{
 "cells": [
  {
   "cell_type": "markdown",
   "id": "3c1cfc55",
   "metadata": {},
   "source": [
    "###### This file runs a GCN on a 1 drone 1 goal probe environemnt of size 3x3. It features heterogen graph nodes and state-space normalization"
   ]
  },
  {
   "cell_type": "code",
   "execution_count": 1,
   "id": "f397c732",
   "metadata": {},
   "outputs": [],
   "source": [
    "import numpy as np\n",
    "from numpy.random import choice, randint, rand, uniform\n",
    "\n",
    "import pdb\n",
    "\n",
    "import torch\n",
    "import torch_geometric\n",
    "from torch_geometric.data import Data\n",
    "from torch_geometric.utils.random import erdos_renyi_graph\n",
    "from torch_geometric.utils import to_dense_adj, to_networkx, to_undirected\n",
    "\n",
    "import torch.nn as nn\n",
    "import torch.nn.functional as F\n",
    "from torch.optim import Adam\n",
    "\n",
    "import networkx as nx\n",
    "import gym\n",
    "from gym.spaces import Box, MultiDiscrete\n",
    "\n",
    "from collections import namedtuple\n",
    "from copy import copy, deepcopy\n",
    "from typing import Optional\n",
    "from enum import Enum, IntEnum\n",
    "import sys\n",
    "sys.path.append('/home/victorialena/rlkit')\n",
    "\n",
    "import rlkit\n",
    "from path_collector import MdpPathCollector\n",
    "\n",
    "from any_replay_buffer import anyReplayBuffer"
   ]
  },
  {
   "cell_type": "code",
   "execution_count": 2,
   "id": "39962c87",
   "metadata": {},
   "outputs": [],
   "source": [
    "import time\n",
    "start_time = time.time()"
   ]
  },
  {
   "cell_type": "markdown",
   "id": "61e3b26b",
   "metadata": {},
   "source": [
    "### env"
   ]
  },
  {
   "cell_type": "code",
   "execution_count": 3,
   "id": "51b018b6",
   "metadata": {},
   "outputs": [],
   "source": [
    "device = 'cpu' #torch.cuda.current_device() if torch.cuda.is_available() else 'cpu'"
   ]
  },
  {
   "cell_type": "code",
   "execution_count": 4,
   "id": "55ed40c4",
   "metadata": {},
   "outputs": [],
   "source": [
    "sysconfig = namedtuple(\"sysconfig\", \n",
    "                       ['maxX', 'maxY', 'goal_reward'], \n",
    "                       defaults=[5, 5, 1.])"
   ]
  },
  {
   "cell_type": "code",
   "execution_count": 5,
   "id": "754da146",
   "metadata": {},
   "outputs": [],
   "source": [
    "actions = namedtuple(\"actions\", \n",
    "                    ['right', 'left', 'up', 'down', 'noop'], \n",
    "                    defaults=[np.int64(0), np.int64(1), np.int64(2), np.int64(3), np.int64(4)])\n",
    "action = actions()\n",
    "a2vecmap = torch.Tensor([[1., 0.],\n",
    "                         [-1, 0.],\n",
    "                         [0., 1.],\n",
    "                         [0, -1.],\n",
    "                         [0., 0.]]).to(device)"
   ]
  },
  {
   "cell_type": "code",
   "execution_count": 6,
   "id": "1e3d3d47",
   "metadata": {},
   "outputs": [],
   "source": [
    "def fully_connect_graph(n_drones):\n",
    "    \"\"\" Connect the graph s.t. all drones are interconnected and each goal connects to all drones. \"\"\"\n",
    "    \n",
    "    idx = torch.combinations(torch.arange(n_drones+1), r=2)\n",
    "    return to_undirected(idx.t(), num_nodes=n_drones+1)"
   ]
  },
  {
   "cell_type": "code",
   "execution_count": 32,
   "id": "53ea190f",
   "metadata": {},
   "outputs": [],
   "source": [
    "class droneDeliveryProbe(gym.Env):\n",
    "    \"\"\"\n",
    "    ### Description\n",
    "    \n",
    "    ### Action Space\n",
    "    Each agent in the scene can move R or L or not at all.\n",
    "    \n",
    "    ### State Space\n",
    "    The state is defined as an arbitrary input array of positions of n drones, appended by the location\n",
    "    of the goal region.\n",
    "    \n",
    "    ### Rewards\n",
    "    The reward of +1 is given to the system for each drone reaching the goal region.\n",
    "    \n",
    "    ### Starting State\n",
    "    Randomly initilized input array.\n",
    "    \n",
    "    ### Episode Termination\n",
    "    When all drones have reached the goal region.\n",
    "    \n",
    "    ### Arguments\n",
    "    No additional arguments are currently supported.\n",
    "    \"\"\"\n",
    "\n",
    "    def __init__(self, n=1, device='cpu'):\n",
    "        self.config = sysconfig()\n",
    "        self.ndrones = n\n",
    "        \n",
    "        self.aspace = MultiDiscrete([len(action)]*self.ndrones)\n",
    "        self.sspace = MultiDiscrete([self.config.maxX, self.config.maxY, 2])\n",
    "        self.state = None\n",
    "        \n",
    "        self._device = device\n",
    "         \n",
    "    def get_distances(self):\n",
    "        return (self.state.x[-1, :-1]-self.state.x[:-1, :-1]).norm(p=1, dim=1)\n",
    "    \n",
    "    def get_size(self):\n",
    "        return torch.Tensor([self.config.maxX, self.config.maxY, 2])\n",
    "        \n",
    "    def reward(self, a):\n",
    "        return (self.get_distances() == 0).all().float().item()\n",
    "                        \n",
    "    def step(self, a):\n",
    "        err_msg = f\"{a!r} ({type(a)}) is not a valid action.\"\n",
    "        assert self.aspace.contains(a), err_msg\n",
    "        \n",
    "        reward = self.reward(a)\n",
    "        a = a2vecmap[a]\n",
    "        done = (self.get_distances() == 0).all().item()   \n",
    "    \n",
    "        self.state.x[:-1, :-1] = (self.state.x[:-1, :-1]+a).clamp(min=0, max=self.config.maxX)\n",
    "        \n",
    "        return deepcopy(self.state), deepcopy(reward), deepcopy(done), {}\n",
    "\n",
    "    def reset(self, seed: Optional[int] = None):\n",
    "        if not seed == None:\n",
    "            super().reset(seed=seed)\n",
    "            \n",
    "        x = torch.Tensor(np.stack([self.sspace.sample() for _ in range(self.ndrones+1)]))\n",
    "        # reset the state flags: +1 agent, -1 goal\n",
    "        x[:, -1] = 1\n",
    "        x[-1, -1] = -1\n",
    "        \n",
    "        edge_index = fully_connect_graph(self.ndrones)\n",
    "        self.state = Data(x=x, edge_index=edge_index).to(device)\n",
    "        \n",
    "        return deepcopy(self.state)\n",
    "\n",
    "    def render(self, s = None):\n",
    "        if not s:\n",
    "            s = self.state\n",
    "        g = torch_geometric.utils.to_networkx(s, to_undirected=False)\n",
    "        colors = np.array(['green']*self.ndrones+['yellow'])\n",
    "        pos = {i: x[:2].numpy() for i, x in enumerate(self.state.x)}\n",
    "        nx.draw(g, pos=pos, node_color=colors)\n",
    "    \n",
    "    def seed(self, n: int):\n",
    "        super().seed(n)\n",
    "        self.aspace.seed(n)\n",
    "        self.sspace.seed(n)\n",
    "        \n",
    "    def to(self, device):\n",
    "        self._device = device\n",
    "        if self.state:\n",
    "            self.state = self.state.to(device)"
   ]
  },
  {
   "cell_type": "code",
   "execution_count": 34,
   "id": "72fdf5f8",
   "metadata": {},
   "outputs": [],
   "source": [
    "env = droneDeliveryProbe(1, device=device)\n",
    "x = env.reset()"
   ]
  },
  {
   "cell_type": "markdown",
   "id": "e6bbf8b2",
   "metadata": {},
   "source": [
    "### Model"
   ]
  },
  {
   "cell_type": "code",
   "execution_count": 9,
   "id": "9abd34e1",
   "metadata": {},
   "outputs": [],
   "source": [
    "from collections import OrderedDict\n",
    "\n",
    "from torch.nn import Linear, ReLU, Softmax\n",
    "import torch.nn.functional as F\n",
    "from torch_geometric.nn import Sequential, GCNConv, SAGEConv\n",
    "        \n",
    "class droneDeliveryModel(nn.Module):\n",
    "    \n",
    "    def __init__(self, c_in, c_out, c_hidden=64, bounds=None, **kwargs):\n",
    "        \n",
    "        super().__init__()\n",
    "        \n",
    "        self.model = Sequential('x, edge_index', [\n",
    "            (SAGEConv(c_in, c_hidden), 'x, edge_index -> x'),\n",
    "            ReLU(inplace=True),\n",
    "            (SAGEConv(c_hidden, c_hidden), 'x, edge_index -> x'),\n",
    "            ReLU(inplace=True),\n",
    "            (SAGEConv(c_hidden, c_hidden), 'x, edge_index -> x'),\n",
    "            ReLU(inplace=True),\n",
    "            Linear(c_hidden, c_out),\n",
    "#             nn.Softmax(dim=-1) # no freaking softmax\n",
    "        ])\n",
    "        \n",
    "        self._device = 'cpu'\n",
    "        self._upper_bound = bounds\n",
    "\n",
    "    def forward(self, x):\n",
    "        y = x.x\n",
    "        if self._upper_bound is not None:\n",
    "            y = y.div(self._upper_bound-1)\n",
    "        return self.model(y, x.edge_index)[:-1]\n",
    "    \n",
    "    def to(self, device):\n",
    "        super().to(device)\n",
    "        self._device = device\n",
    "        if self._upper_bound is not None:\n",
    "            self._upper_bound = self._upper_bound.to(device)"
   ]
  },
  {
   "cell_type": "code",
   "execution_count": 10,
   "id": "db91c560",
   "metadata": {},
   "outputs": [],
   "source": [
    "in_channels, out_channels = 2+1, len(action)"
   ]
  },
  {
   "cell_type": "markdown",
   "id": "31ba6396",
   "metadata": {},
   "source": [
    "### RL "
   ]
  },
  {
   "cell_type": "code",
   "execution_count": 11,
   "id": "1a01f5e5",
   "metadata": {},
   "outputs": [],
   "source": [
    "max_len = env.config.maxX + env.config.maxY - 1"
   ]
  },
  {
   "cell_type": "code",
   "execution_count": 12,
   "id": "2b5b9c93",
   "metadata": {},
   "outputs": [],
   "source": [
    "def pick(x):\n",
    "    probs = np.array([x[0]>0, x[0]<0, x[1]>0, x[1]<0, x[1]==x[0]==0], dtype=int)\n",
    "    return np.random.choice(action, p=probs/sum(probs))"
   ]
  },
  {
   "cell_type": "code",
   "execution_count": 13,
   "id": "35b3260b",
   "metadata": {},
   "outputs": [],
   "source": [
    "from rlkit.policies.base import Policy\n",
    "\n",
    "# pick = lambda x: np.random.choice(action, p=x/sum(x) if sum(x) != 0 else None)\n",
    "# pick = lambda x: np.random.choice(action, p=np.array([x[0]>0, x[0]<0, x[1]>0, x[1]<0, x[1]==x[0]==0], dtype=int))\n",
    "\n",
    "class sysRolloutPolicy(nn.Module, Policy):\n",
    "    def __init__(self):\n",
    "        super().__init__()\n",
    "\n",
    "    def get_action(self, obs):\n",
    "        dis = (obs.x[-1] - obs.x[:-1]) #cpu().numpy()\n",
    "#         p = np.array([dis[0] > 0, dis[0] < 0, dis[1] > 0, dis[1] < 0, dis[1]==dis[0]==0], dtype=int)\n",
    "        return [pick(d) for d in dis], {}\n",
    "    \n",
    "class argmaxDiscretePolicy(nn.Module, Policy):\n",
    "    def __init__(self, qf, dim=1):\n",
    "        super().__init__()\n",
    "        self.qf = qf\n",
    "        self.dim = dim\n",
    "\n",
    "    def get_action(self, obs):\n",
    "        q_values = self.qf(obs)\n",
    "        return q_values.cpu().detach().numpy().argmax(self.dim), {}\n",
    "\n",
    "# # redundant code - clean this up\n",
    "# class epsilonGreedyPolicy(nn.Module, Policy):\n",
    "#     def __init__(self, qf, space, eps=0.1, dim=1):\n",
    "#         super().__init__()\n",
    "#         self.qf = qf\n",
    "#         self.aspace = space\n",
    "        \n",
    "#         self.eps = eps\n",
    "#         self.dim = dim\n",
    "\n",
    "#     def get_action(self, obs):\n",
    "#         if rand() < self.eps:\n",
    "#             return self.aspace.sample(), {}\n",
    "#         q_values = self.qf(obs)\n",
    "#         return q_values.cpu().detach().numpy().argmax(self.dim), {}\n",
    "\n",
    "# redundant code - clean this up\n",
    "class epsilonGreedyPolicy(nn.Module, Policy):\n",
    "    def __init__(self, qf, space, eps=0.1, dim=1, sim_annealing_fac=1.0):\n",
    "        super().__init__()\n",
    "        self.qf = qf\n",
    "        self.aspace = space\n",
    "        \n",
    "        self.eps = eps\n",
    "        self.dim = dim\n",
    "        self.saf = sim_annealing_fac\n",
    "        \n",
    "    def simulated_annealing(self):\n",
    "        self.eps *= self.saf\n",
    "\n",
    "    def get_action(self, obs):\n",
    "        if rand() < self.eps:\n",
    "            return self.aspace.sample(), {}\n",
    "        q_values = self.qf(obs)\n",
    "        return q_values.cpu().detach().numpy().argmax(self.dim), {}"
   ]
  },
  {
   "cell_type": "code",
   "execution_count": 14,
   "id": "ac19683e",
   "metadata": {},
   "outputs": [],
   "source": [
    "def mean_reward_per_traj(paths):\n",
    "    return np.mean([np.sum(p['rewards']) for p in paths])\n",
    "\n",
    "def mean_reward(paths):\n",
    "    return np.hstack([p['rewards'] for p in paths]).mean()"
   ]
  },
  {
   "cell_type": "code",
   "execution_count": 15,
   "id": "1461b65d",
   "metadata": {},
   "outputs": [
    {
     "name": "stdout",
     "output_type": "stream",
     "text": [
      "Expected reward (per traj): 1.0\n",
      "Expected reward (per step): 0.2331002331002331 \n",
      "\n",
      "\n",
      " Data(x=[2, 3], edge_index=[2, 2])\n",
      "[3]\n",
      "0.0\n",
      "False\n",
      "\n",
      " Data(x=[2, 3], edge_index=[2, 2])\n",
      "[1]\n",
      "0.0\n",
      "False\n",
      "\n",
      " Data(x=[2, 3], edge_index=[2, 2])\n",
      "[3]\n",
      "0.0\n",
      "False\n",
      "\n",
      " Data(x=[2, 3], edge_index=[2, 2])\n",
      "[3]\n",
      "0.0\n",
      "False\n",
      "\n",
      " Data(x=[2, 3], edge_index=[2, 2])\n",
      "[4]\n",
      "1.0\n",
      "True\n"
     ]
    }
   ],
   "source": [
    "example_policy = sysRolloutPolicy() \n",
    "path_collector = MdpPathCollector(env, example_policy)\n",
    "paths = path_collector.collect_new_paths(100, max_len, False)\n",
    "expected_heuristic_pt = mean_reward_per_traj(paths)\n",
    "print(\"Expected reward (per traj):\", expected_heuristic_pt)\n",
    "expected_heuristic = mean_reward(paths)\n",
    "print(\"Expected reward (per step):\", expected_heuristic, '\\n')\n",
    "\n",
    "idx = np.random.randint(100)\n",
    "for s, a, r, t in zip(paths[idx]['observations'], paths[idx]['actions'], \n",
    "                      paths[idx]['rewards'], paths[idx]['terminals']):\n",
    "    print('\\n', s)\n",
    "    print(a)\n",
    "    print(r)\n",
    "    print(t)"
   ]
  },
  {
   "cell_type": "code",
   "execution_count": 16,
   "id": "0961a6ac",
   "metadata": {},
   "outputs": [],
   "source": [
    "qf = droneDeliveryModel(in_channels, out_channels, 8)\n",
    "qf.to(device)"
   ]
  },
  {
   "cell_type": "code",
   "execution_count": 17,
   "id": "941261e7",
   "metadata": {},
   "outputs": [
    {
     "name": "stdout",
     "output_type": "stream",
     "text": [
      "Expected reward (per traj): 0.08\n",
      "Expected reward (per step): 0.009445100354191263\n",
      "\n",
      " Data(x=[2, 3], edge_index=[2, 2])\n",
      "[2]\n",
      "1.0\n",
      "True\n"
     ]
    }
   ],
   "source": [
    "example_policy = argmaxDiscretePolicy(qf) \n",
    "path_collector = MdpPathCollector(env, example_policy)\n",
    "paths = path_collector.collect_new_paths(100, max_len, False)\n",
    "expected_random_pt =  mean_reward_per_traj(paths)\n",
    "print(\"Expected reward (per traj):\", expected_random_pt)\n",
    "expected_random = mean_reward(paths)\n",
    "print(\"Expected reward (per step):\", expected_random)\n",
    "\n",
    "idx = np.random.randint(100)\n",
    "for s, a, r, t in zip(paths[idx]['observations'], paths[idx]['actions'], \n",
    "                      paths[idx]['rewards'], paths[idx]['terminals']):\n",
    "    print('\\n', s)\n",
    "    print(a)\n",
    "    print(r)\n",
    "    print(t)\n",
    "    "
   ]
  },
  {
   "cell_type": "markdown",
   "id": "86bc658e",
   "metadata": {},
   "source": [
    "#### train"
   ]
  },
  {
   "cell_type": "code",
   "execution_count": 18,
   "id": "04076d9c",
   "metadata": {},
   "outputs": [],
   "source": [
    "RANDOM_SEED = 0\n",
    "\n",
    "torch.manual_seed(RANDOM_SEED)\n",
    "np.random.seed(RANDOM_SEED)\n",
    "env.seed(RANDOM_SEED)"
   ]
  },
  {
   "cell_type": "code",
   "execution_count": 19,
   "id": "4561d31d",
   "metadata": {},
   "outputs": [],
   "source": [
    "qf = droneDeliveryModel(in_channels, out_channels, 32, bounds=env.get_size())\n",
    "qf.to(device)\n",
    "\n",
    "target_qf = droneDeliveryModel(in_channels, out_channels, 32, bounds=env.get_size())\n",
    "target_qf.to(device)"
   ]
  },
  {
   "cell_type": "code",
   "execution_count": 20,
   "id": "b082a15b",
   "metadata": {},
   "outputs": [],
   "source": [
    "qf_criterion = nn.MSELoss()\n",
    "eval_policy = argmaxDiscretePolicy(qf)\n",
    "# expl_policy = sysRolloutPolicy()\n",
    "# expl_policy = epsilonGreedyPolicy(qf, env.aspace, eps=.1)\n",
    "expl_policy = epsilonGreedyPolicy(qf, env.aspace, eps=.5, sim_annealing_fac=.9)"
   ]
  },
  {
   "cell_type": "code",
   "execution_count": 21,
   "id": "ad7d6898",
   "metadata": {},
   "outputs": [],
   "source": [
    "expl_path_collector = MdpPathCollector(env, expl_policy) \n",
    "eval_path_collector = MdpPathCollector(env, eval_policy)\n",
    "replay_buffer = anyReplayBuffer(1000, prioritized=True) # 256\n",
    "optimizer = Adam(qf.parameters(), lr=5E-3)"
   ]
  },
  {
   "cell_type": "code",
   "execution_count": 22,
   "id": "fbb479a9",
   "metadata": {},
   "outputs": [
    {
     "name": "stdout",
     "output_type": "stream",
     "text": [
      "iter  1  -> loss:  0.012346086765173823 , rewards: (train)  0.0201953125 , (test)  0.125\n",
      "iter  2  -> loss:  0.010664512463845312 , rewards: (train)  0.0395703125 , (test)  0.0859375\n",
      "iter  3  -> loss:  0.0032453284034272656 , rewards: (train)  0.0571875 , (test)  0.21875\n",
      "iter  4  -> loss:  0.008051351255271583 , rewards: (train)  0.1953125 , (test)  0.546875\n",
      "iter  5  -> loss:  0.003292089548194781 , rewards: (train)  0.299609375 , (test)  0.9140625\n",
      "iter  6  -> loss:  0.0020188888593111187 , rewards: (train)  0.2823828125 , (test)  0.90625\n",
      "iter  7  -> loss:  0.0012631851446349173 , rewards: (train)  0.3609375 , (test)  0.921875\n",
      "iter  8  -> loss:  0.0008649655000772328 , rewards: (train)  0.3570703125 , (test)  0.953125\n",
      "iter  9  -> loss:  0.0004760400309169199 , rewards: (train)  0.3863671875 , (test)  1.0\n",
      "iter  10  -> loss:  0.0003896082961000502 , rewards: (train)  0.3931640625 , (test)  0.9765625\n",
      "iter  11  -> loss:  0.00032623775419779124 , rewards: (train)  0.376015625 , (test)  1.0\n",
      "iter  12  -> loss:  0.00021963853141642175 , rewards: (train)  0.3986328125 , (test)  1.0\n",
      "iter  13  -> loss:  0.00019092947426543105 , rewards: (train)  0.39703125 , (test)  1.0\n",
      "iter  14  -> loss:  0.0001434926719230134 , rewards: (train)  0.415390625 , (test)  0.984375\n",
      "iter  15  -> loss:  0.00013852162897819652 , rewards: (train)  0.417890625 , (test)  0.9921875\n"
     ]
    }
   ],
   "source": [
    "n_epoch = 15\n",
    "n_iter = 100\n",
    "batch_size = 256 #128\n",
    "n_samples = 256\n",
    "\n",
    "loss = []\n",
    "avg_r_train = []\n",
    "avg_r_test = []\n",
    "\n",
    "for i in range(n_epoch):\n",
    "    qf.train(False)\n",
    "    paths = eval_path_collector.collect_new_paths(128, max_len, False)\n",
    "    avg_r_test.append(mean_reward_per_traj(paths))\n",
    "    \n",
    "    paths = expl_path_collector.collect_new_paths(n_samples, max_len, False)\n",
    "    replay_buffer.add_paths(paths) # does this mmake any sense at all ?\n",
    "    \n",
    "    qf.train(True)\n",
    "    if n_epoch > 0:\n",
    "        expl_path_collector._policy.simulated_annealing()\n",
    "    for _ in range(n_iter):\n",
    "        batch = replay_buffer.random_batch(batch_size)\n",
    "        rewards = torch.Tensor(batch['rewards']).unsqueeze(-1).to(device)\n",
    "        terminals = torch.Tensor(batch['terminals']).unsqueeze(-1).to(device)\n",
    "        actions = torch.Tensor(batch['actions']).to(device)\n",
    "\n",
    "        obs = batch['observations']\n",
    "        next_obs = batch['next_observations']\n",
    "                \n",
    "        out = torch.stack(list(map(target_qf, next_obs)), axis=0)         \n",
    "        target_q_values = out.max(-1, keepdims=False).values\n",
    "        y_target = rewards + (1. - terminals) * 0.90 * target_q_values \n",
    "        out = torch.stack(list(map(qf, obs)), axis=0)\n",
    "               \n",
    "        actions_one_hot = F.one_hot(actions.to(torch.int64), len(action))\n",
    "        y_pred = torch.sum(out * actions_one_hot, dim=-1, keepdim=False)\n",
    "        qf_loss = qf_criterion(y_pred, y_target)\n",
    "        \n",
    "        loss.append(qf_loss.item())\n",
    "        avg_r_train.append(rewards.mean().item())\n",
    "        \n",
    "        optimizer.zero_grad() \n",
    "        qf_loss.backward()\n",
    "        optimizer.step()\n",
    "        \n",
    "#     print(qf.state_dict().items())\n",
    "    \n",
    "    target_qf.load_state_dict(deepcopy(qf.state_dict()))\n",
    "    print(\"iter \", i+1, \" -> loss: \", np.mean(loss[-n_iter:]),\n",
    "          \", rewards: (train) \", np.mean(avg_r_train[-n_iter:]),\n",
    "          \", (test) \", avg_r_test[-1])"
   ]
  },
  {
   "cell_type": "code",
   "execution_count": 23,
   "id": "e1e49ebe",
   "metadata": {},
   "outputs": [
    {
     "name": "stdout",
     "output_type": "stream",
     "text": [
      "This eval took me  502.2989065647125  seconds. Thanks for waiting :)\n"
     ]
    }
   ],
   "source": [
    "print(\"This eval took me \", time.time() - start_time, \" seconds. Thanks for waiting :)\")"
   ]
  },
  {
   "cell_type": "code",
   "execution_count": 24,
   "id": "d6fd682d",
   "metadata": {},
   "outputs": [],
   "source": [
    "import matplotlib.pyplot as plt"
   ]
  },
  {
   "cell_type": "code",
   "execution_count": 25,
   "id": "f976e55d",
   "metadata": {},
   "outputs": [
    {
     "data": {
      "text/plain": [
       "<matplotlib.legend.Legend at 0x7f8c964c2090>"
      ]
     },
     "execution_count": 25,
     "metadata": {},
     "output_type": "execute_result"
    },
    {
     "data": {
      "image/png": "[encoded data removed]",
      "text/plain": [
       "<Figure size 432x288 with 1 Axes>"
      ]
     },
     "metadata": {
      "needs_background": "light"
     },
     "output_type": "display_data"
    }
   ],
   "source": [
    "plt.plot(np.arange(n_iter*n_epoch), [expected_random_pt]*(n_iter*n_epoch), label = \"do nothing\", color='lightgray')\n",
    "plt.plot(np.arange(n_iter*n_epoch), [expected_heuristic_pt]*(n_iter*n_epoch), label = \"reboot when dead\",  color='darkgray')\n",
    "\n",
    "plt.plot(np.arange(n_iter*n_epoch), avg_r_train, label = \"avg R (train)\")\n",
    "plt.plot(np.arange(n_iter, n_iter*n_epoch+1, step=n_iter), avg_r_test, label = \"avg R (test)\")\n",
    "plt.legend()\n",
    "\n",
    "# plt.savefig('training_log.png', dpi=300)"
   ]
  },
  {
   "cell_type": "code",
   "execution_count": 26,
   "id": "7aa92069",
   "metadata": {},
   "outputs": [
    {
     "data": {
      "text/plain": [
       "[<matplotlib.lines.Line2D at 0x7f8c9606e710>]"
      ]
     },
     "execution_count": 26,
     "metadata": {},
     "output_type": "execute_result"
    },
    {
     "data": {
      "image/png": "[encoded data removed]",
      "text/plain": [
       "<Figure size 432x288 with 1 Axes>"
      ]
     },
     "metadata": {
      "needs_background": "light"
     },
     "output_type": "display_data"
    }
   ],
   "source": [
    "plt.plot(loss)"
   ]
  },
  {
   "cell_type": "markdown",
   "id": "bfcef061",
   "metadata": {},
   "source": [
    "### curricul learning test"
   ]
  },
  {
   "cell_type": "markdown",
   "id": "7a798b2b",
   "metadata": {},
   "source": [
    "```python\n",
    "torch.save(qf.state_dict(), \"qf_stat1_chk.pt\")\n",
    "```"
   ]
  },
  {
   "cell_type": "code",
   "execution_count": null,
   "id": "8cb3ff44",
   "metadata": {},
   "outputs": [],
   "source": [
    "RANDOM_SEED = 0\n",
    "\n",
    "torch.manual_seed(RANDOM_SEED)\n",
    "np.random.seed(RANDOM_SEED)\n",
    "env.seed(RANDOM_SEED)"
   ]
  },
  {
   "cell_type": "code",
   "execution_count": 37,
   "id": "1b8e4ed0",
   "metadata": {},
   "outputs": [],
   "source": [
    "env = droneDeliveryProbe(2, device=device)\n",
    "x = env.reset()"
   ]
  },
  {
   "cell_type": "code",
   "execution_count": 38,
   "id": "219012e0",
   "metadata": {},
   "outputs": [],
   "source": [
    "qf_criterion = nn.MSELoss()\n",
    "eval_policy = argmaxDiscretePolicy(qf)\n",
    "expl_policy = epsilonGreedyPolicy(qf, env.aspace, eps=.1)\n",
    "\n",
    "expl_path_collector = MdpPathCollector(env, expl_policy) \n",
    "eval_path_collector = MdpPathCollector(env, eval_policy)\n",
    "replay_buffer = anyReplayBuffer(1000, prioritized=True) # 256\n",
    "# optimizer = Adam(qf.parameters(), lr=5E-3)"
   ]
  },
  {
   "cell_type": "code",
   "execution_count": 39,
   "id": "7f08df4f",
   "metadata": {},
   "outputs": [
    {
     "name": "stdout",
     "output_type": "stream",
     "text": [
      "iter  1  -> loss:  0.0019866787240607666 , rewards: (train)  0.0076953125 , (test)  0.03125\n",
      "iter  2  -> loss:  0.0026824874815065416 , rewards: (train)  0.0134765625 , (test)  0.0546875\n",
      "iter  3  -> loss:  0.001265185091760941 , rewards: (train)  0.005390625 , (test)  0.0234375\n",
      "iter  4  -> loss:  0.002249628988211043 , rewards: (train)  0.031875 , (test)  0.140625\n",
      "iter  5  -> loss:  0.004146127826534212 , rewards: (train)  0.0551953125 , (test)  0.1953125\n",
      "iter  6  -> loss:  0.002303166355704889 , rewards: (train)  0.0417578125 , (test)  0.1484375\n",
      "iter  7  -> loss:  0.002832158247474581 , rewards: (train)  0.040078125 , (test)  0.2421875\n",
      "iter  8  -> loss:  0.0017070990765932948 , rewards: (train)  0.016484375 , (test)  0.0078125\n",
      "iter  9  -> loss:  0.001854901232291013 , rewards: (train)  0.0244921875 , (test)  0.0625\n",
      "iter  10  -> loss:  0.0019340386026306079 , rewards: (train)  0.0269921875 , (test)  0.125\n",
      "iter  11  -> loss:  0.005165544738993048 , rewards: (train)  0.11203125 , (test)  0.46875\n",
      "iter  12  -> loss:  0.004341749497689307 , rewards: (train)  0.0948046875 , (test)  0.2578125\n",
      "iter  13  -> loss:  0.004318141674157232 , rewards: (train)  0.091171875 , (test)  0.34375\n",
      "iter  14  -> loss:  0.004571642419323325 , rewards: (train)  0.20828125 , (test)  0.546875\n",
      "iter  15  -> loss:  0.003820313836913556 , rewards: (train)  0.2857421875 , (test)  0.8125\n"
     ]
    }
   ],
   "source": [
    "n_epoch = 20\n",
    "n_iter = 100\n",
    "batch_size = 256 #128\n",
    "n_samples = 256\n",
    "\n",
    "loss = []\n",
    "avg_r_train = []\n",
    "avg_r_test = []\n",
    "\n",
    "for i in range(n_epoch):\n",
    "    qf.train(False)\n",
    "    paths = eval_path_collector.collect_new_paths(128, max_len, False)\n",
    "    avg_r_test.append(mean_reward_per_traj(paths))\n",
    "    \n",
    "    paths = expl_path_collector.collect_new_paths(n_samples, max_len, False)\n",
    "    replay_buffer.add_paths(paths) # does this mmake any sense at all ?\n",
    "    \n",
    "    qf.train(True)\n",
    "    if n_epoch > 0:\n",
    "        expl_path_collector._policy.simulated_annealing()\n",
    "    for _ in range(n_iter):\n",
    "        batch = replay_buffer.random_batch(batch_size)\n",
    "        rewards = torch.Tensor(batch['rewards']).unsqueeze(-1).to(device)\n",
    "        terminals = torch.Tensor(batch['terminals']).unsqueeze(-1).to(device)\n",
    "        actions = torch.Tensor(batch['actions']).to(device)\n",
    "\n",
    "        obs = batch['observations']\n",
    "        next_obs = batch['next_observations']\n",
    "                \n",
    "        out = torch.stack(list(map(target_qf, next_obs)), axis=0)         \n",
    "        target_q_values = out.max(-1, keepdims=False).values\n",
    "        y_target = rewards + (1. - terminals) * 0.90 * target_q_values \n",
    "        out = torch.stack(list(map(qf, obs)), axis=0)\n",
    "               \n",
    "        actions_one_hot = F.one_hot(actions.to(torch.int64), len(action))\n",
    "        y_pred = torch.sum(out * actions_one_hot, dim=-1, keepdim=False)\n",
    "        qf_loss = qf_criterion(y_pred, y_target)\n",
    "        \n",
    "        loss.append(qf_loss.item())\n",
    "        avg_r_train.append(rewards.mean().item())\n",
    "        \n",
    "        optimizer.zero_grad() \n",
    "        qf_loss.backward()\n",
    "        optimizer.step()\n",
    "        \n",
    "#     print(qf.state_dict().items())\n",
    "    \n",
    "    target_qf.load_state_dict(deepcopy(qf.state_dict()))\n",
    "    print(\"iter \", i+1, \" -> loss: \", np.mean(loss[-n_iter:]),\n",
    "          \", rewards: (train) \", np.mean(avg_r_train[-n_iter:]),\n",
    "          \", (test) \", avg_r_test[-1])"
   ]
  },
  {
   "cell_type": "markdown",
   "id": "15b36120",
   "metadata": {},
   "source": [
    "```python \n",
    "qf.train(False);\n",
    "\n",
    "x = Data(x=torch.Tensor([[1, 0], [1, 1]]), \n",
    "         edge_index=torch.eye(2, dtype=torch.int64))\n",
    "qf(x.to(device))\n",
    "```"
   ]
  },
  {
   "cell_type": "code",
   "execution_count": null,
   "id": "52bb35ab",
   "metadata": {},
   "outputs": [],
   "source": []
  }
 ],
 "metadata": {
  "kernelspec": {
   "display_name": "Python [conda env:rlpyt] *",
   "language": "python",
   "name": "conda-env-rlpyt-py"
  },
  "language_info": {
   "codemirror_mode": {
    "name": "ipython",
    "version": 3
   },
   "file_extension": ".py",
   "mimetype": "text/x-python",
   "name": "python",
   "nbconvert_exporter": "python",
   "pygments_lexer": "ipython3",
   "version": "3.7.11"
  }
 },
 "nbformat": 4,
 "nbformat_minor": 5
}
